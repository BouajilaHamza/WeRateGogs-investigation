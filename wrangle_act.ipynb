{
 "cells": [
  {
   "cell_type": "markdown",
   "metadata": {
    "extensions": {
     "jupyter_dashboards": {
      "version": 1,
      "views": {
       "grid_default": {
        "col": 0,
        "height": 4,
        "hidden": false,
        "row": 0,
        "width": 4
       },
       "report_default": {
        "hidden": false
       }
      }
     }
    }
   },
   "source": [
    "# Project: Wrangling and Analyze Data"
   ]
  },
  {
   "cell_type": "markdown",
   "metadata": {},
   "source": [
    "## Data Gathering\n",
    "In the cell below, gather **all** three pieces of data for this project and load them in the notebook. **Note:** the methods required to gather each data are different.\n",
    "1. Directly download the WeRateDogs Twitter archive data (twitter_archive_enhanced.csv)"
   ]
  },
  {
   "cell_type": "code",
   "execution_count": 2,
   "metadata": {
    "extensions": {
     "jupyter_dashboards": {
      "version": 1,
      "views": {
       "grid_default": {
        "hidden": true
       },
       "report_default": {
        "hidden": true
       }
      }
     }
    }
   },
   "outputs": [],
   "source": [
    "import pandas as pd\n",
    "import numpy as np\n",
    "import requests\n",
    "import tweepy\n",
    "import os\n",
    "from tweepy import OAuthHandler\n",
    "import json\n",
    "from timeit import default_timer as timer\n",
    "import matplotlib.pyplot as plt"
   ]
  },
  {
   "cell_type": "code",
   "execution_count": 3,
   "metadata": {},
   "outputs": [
    {
     "data": {
      "text/html": [
       "<div>\n",
       "<style scoped>\n",
       "    .dataframe tbody tr th:only-of-type {\n",
       "        vertical-align: middle;\n",
       "    }\n",
       "\n",
       "    .dataframe tbody tr th {\n",
       "        vertical-align: top;\n",
       "    }\n",
       "\n",
       "    .dataframe thead th {\n",
       "        text-align: right;\n",
       "    }\n",
       "</style>\n",
       "<table border=\"1\" class=\"dataframe\">\n",
       "  <thead>\n",
       "    <tr style=\"text-align: right;\">\n",
       "      <th></th>\n",
       "      <th>tweet_id</th>\n",
       "      <th>in_reply_to_status_id</th>\n",
       "      <th>in_reply_to_user_id</th>\n",
       "      <th>timestamp</th>\n",
       "      <th>source</th>\n",
       "      <th>text</th>\n",
       "      <th>retweeted_status_id</th>\n",
       "      <th>retweeted_status_user_id</th>\n",
       "      <th>retweeted_status_timestamp</th>\n",
       "      <th>expanded_urls</th>\n",
       "      <th>rating_numerator</th>\n",
       "      <th>rating_denominator</th>\n",
       "      <th>name</th>\n",
       "      <th>doggo</th>\n",
       "      <th>floofer</th>\n",
       "      <th>pupper</th>\n",
       "      <th>puppo</th>\n",
       "    </tr>\n",
       "  </thead>\n",
       "  <tbody>\n",
       "    <tr>\n",
       "      <th>0</th>\n",
       "      <td>892420643555336193</td>\n",
       "      <td>NaN</td>\n",
       "      <td>NaN</td>\n",
       "      <td>2017-08-01 16:23:56 +0000</td>\n",
       "      <td>&lt;a href=\"http://twitter.com/download/iphone\" r...</td>\n",
       "      <td>This is Phineas. He's a mystical boy. Only eve...</td>\n",
       "      <td>NaN</td>\n",
       "      <td>NaN</td>\n",
       "      <td>NaN</td>\n",
       "      <td>https://twitter.com/dog_rates/status/892420643...</td>\n",
       "      <td>13</td>\n",
       "      <td>10</td>\n",
       "      <td>Phineas</td>\n",
       "      <td>None</td>\n",
       "      <td>None</td>\n",
       "      <td>None</td>\n",
       "      <td>None</td>\n",
       "    </tr>\n",
       "    <tr>\n",
       "      <th>1</th>\n",
       "      <td>892177421306343426</td>\n",
       "      <td>NaN</td>\n",
       "      <td>NaN</td>\n",
       "      <td>2017-08-01 00:17:27 +0000</td>\n",
       "      <td>&lt;a href=\"http://twitter.com/download/iphone\" r...</td>\n",
       "      <td>This is Tilly. She's just checking pup on you....</td>\n",
       "      <td>NaN</td>\n",
       "      <td>NaN</td>\n",
       "      <td>NaN</td>\n",
       "      <td>https://twitter.com/dog_rates/status/892177421...</td>\n",
       "      <td>13</td>\n",
       "      <td>10</td>\n",
       "      <td>Tilly</td>\n",
       "      <td>None</td>\n",
       "      <td>None</td>\n",
       "      <td>None</td>\n",
       "      <td>None</td>\n",
       "    </tr>\n",
       "    <tr>\n",
       "      <th>2</th>\n",
       "      <td>891815181378084864</td>\n",
       "      <td>NaN</td>\n",
       "      <td>NaN</td>\n",
       "      <td>2017-07-31 00:18:03 +0000</td>\n",
       "      <td>&lt;a href=\"http://twitter.com/download/iphone\" r...</td>\n",
       "      <td>This is Archie. He is a rare Norwegian Pouncin...</td>\n",
       "      <td>NaN</td>\n",
       "      <td>NaN</td>\n",
       "      <td>NaN</td>\n",
       "      <td>https://twitter.com/dog_rates/status/891815181...</td>\n",
       "      <td>12</td>\n",
       "      <td>10</td>\n",
       "      <td>Archie</td>\n",
       "      <td>None</td>\n",
       "      <td>None</td>\n",
       "      <td>None</td>\n",
       "      <td>None</td>\n",
       "    </tr>\n",
       "    <tr>\n",
       "      <th>3</th>\n",
       "      <td>891689557279858688</td>\n",
       "      <td>NaN</td>\n",
       "      <td>NaN</td>\n",
       "      <td>2017-07-30 15:58:51 +0000</td>\n",
       "      <td>&lt;a href=\"http://twitter.com/download/iphone\" r...</td>\n",
       "      <td>This is Darla. She commenced a snooze mid meal...</td>\n",
       "      <td>NaN</td>\n",
       "      <td>NaN</td>\n",
       "      <td>NaN</td>\n",
       "      <td>https://twitter.com/dog_rates/status/891689557...</td>\n",
       "      <td>13</td>\n",
       "      <td>10</td>\n",
       "      <td>Darla</td>\n",
       "      <td>None</td>\n",
       "      <td>None</td>\n",
       "      <td>None</td>\n",
       "      <td>None</td>\n",
       "    </tr>\n",
       "  </tbody>\n",
       "</table>\n",
       "</div>"
      ],
      "text/plain": [
       "             tweet_id  in_reply_to_status_id  in_reply_to_user_id  \\\n",
       "0  892420643555336193                    NaN                  NaN   \n",
       "1  892177421306343426                    NaN                  NaN   \n",
       "2  891815181378084864                    NaN                  NaN   \n",
       "3  891689557279858688                    NaN                  NaN   \n",
       "\n",
       "                   timestamp  \\\n",
       "0  2017-08-01 16:23:56 +0000   \n",
       "1  2017-08-01 00:17:27 +0000   \n",
       "2  2017-07-31 00:18:03 +0000   \n",
       "3  2017-07-30 15:58:51 +0000   \n",
       "\n",
       "                                              source  \\\n",
       "0  <a href=\"http://twitter.com/download/iphone\" r...   \n",
       "1  <a href=\"http://twitter.com/download/iphone\" r...   \n",
       "2  <a href=\"http://twitter.com/download/iphone\" r...   \n",
       "3  <a href=\"http://twitter.com/download/iphone\" r...   \n",
       "\n",
       "                                                text  retweeted_status_id  \\\n",
       "0  This is Phineas. He's a mystical boy. Only eve...                  NaN   \n",
       "1  This is Tilly. She's just checking pup on you....                  NaN   \n",
       "2  This is Archie. He is a rare Norwegian Pouncin...                  NaN   \n",
       "3  This is Darla. She commenced a snooze mid meal...                  NaN   \n",
       "\n",
       "   retweeted_status_user_id retweeted_status_timestamp  \\\n",
       "0                       NaN                        NaN   \n",
       "1                       NaN                        NaN   \n",
       "2                       NaN                        NaN   \n",
       "3                       NaN                        NaN   \n",
       "\n",
       "                                       expanded_urls  rating_numerator  \\\n",
       "0  https://twitter.com/dog_rates/status/892420643...                13   \n",
       "1  https://twitter.com/dog_rates/status/892177421...                13   \n",
       "2  https://twitter.com/dog_rates/status/891815181...                12   \n",
       "3  https://twitter.com/dog_rates/status/891689557...                13   \n",
       "\n",
       "   rating_denominator     name doggo floofer pupper puppo  \n",
       "0                  10  Phineas  None    None   None  None  \n",
       "1                  10    Tilly  None    None   None  None  \n",
       "2                  10   Archie  None    None   None  None  \n",
       "3                  10    Darla  None    None   None  None  "
      ]
     },
     "execution_count": 3,
     "metadata": {},
     "output_type": "execute_result"
    }
   ],
   "source": [
    "t_arch = pd.read_csv(\"twitter-archive-enhanced.csv\")\n",
    "t_arch.head(4)"
   ]
  },
  {
   "cell_type": "markdown",
   "metadata": {},
   "source": [
    "2. Use the Requests library to download the tweet image prediction (image_predictions.tsv)"
   ]
  },
  {
   "cell_type": "code",
   "execution_count": 4,
   "metadata": {},
   "outputs": [],
   "source": [
    "# Make directory if it doesn't already exist\n",
    "img_pred = 'img_pred'\n",
    "if not os.path.exists(img_pred):\n",
    "    os.makedirs(img_pred)"
   ]
  },
  {
   "cell_type": "code",
   "execution_count": 5,
   "metadata": {},
   "outputs": [],
   "source": [
    "url = 'https://d17h27t6h515a5.cloudfront.net/topher/2017/August/599fd2ad_image-predictions/image-predictions.tsv'\n",
    "response = requests.get(url)"
   ]
  },
  {
   "cell_type": "code",
   "execution_count": 6,
   "metadata": {},
   "outputs": [],
   "source": [
    "with open(os.path.join(img_pred, url.split('/')[-1]), mode = 'wb') as file:\n",
    "    file.write(response.content)"
   ]
  },
  {
   "cell_type": "code",
   "execution_count": 7,
   "metadata": {},
   "outputs": [],
   "source": [
    "img = pd.read_csv(\"img_pred/image-predictions.tsv\" , sep = \"\\t\")"
   ]
  },
  {
   "cell_type": "code",
   "execution_count": 8,
   "metadata": {},
   "outputs": [
    {
     "data": {
      "text/html": [
       "<div>\n",
       "<style scoped>\n",
       "    .dataframe tbody tr th:only-of-type {\n",
       "        vertical-align: middle;\n",
       "    }\n",
       "\n",
       "    .dataframe tbody tr th {\n",
       "        vertical-align: top;\n",
       "    }\n",
       "\n",
       "    .dataframe thead th {\n",
       "        text-align: right;\n",
       "    }\n",
       "</style>\n",
       "<table border=\"1\" class=\"dataframe\">\n",
       "  <thead>\n",
       "    <tr style=\"text-align: right;\">\n",
       "      <th></th>\n",
       "      <th>tweet_id</th>\n",
       "      <th>jpg_url</th>\n",
       "      <th>img_num</th>\n",
       "      <th>p1</th>\n",
       "      <th>p1_conf</th>\n",
       "      <th>p1_dog</th>\n",
       "      <th>p2</th>\n",
       "      <th>p2_conf</th>\n",
       "      <th>p2_dog</th>\n",
       "      <th>p3</th>\n",
       "      <th>p3_conf</th>\n",
       "      <th>p3_dog</th>\n",
       "    </tr>\n",
       "  </thead>\n",
       "  <tbody>\n",
       "    <tr>\n",
       "      <th>0</th>\n",
       "      <td>666020888022790149</td>\n",
       "      <td>https://pbs.twimg.com/media/CT4udn0WwAA0aMy.jpg</td>\n",
       "      <td>1</td>\n",
       "      <td>Welsh_springer_spaniel</td>\n",
       "      <td>0.465074</td>\n",
       "      <td>True</td>\n",
       "      <td>collie</td>\n",
       "      <td>0.156665</td>\n",
       "      <td>True</td>\n",
       "      <td>Shetland_sheepdog</td>\n",
       "      <td>0.061428</td>\n",
       "      <td>True</td>\n",
       "    </tr>\n",
       "    <tr>\n",
       "      <th>1</th>\n",
       "      <td>666029285002620928</td>\n",
       "      <td>https://pbs.twimg.com/media/CT42GRgUYAA5iDo.jpg</td>\n",
       "      <td>1</td>\n",
       "      <td>redbone</td>\n",
       "      <td>0.506826</td>\n",
       "      <td>True</td>\n",
       "      <td>miniature_pinscher</td>\n",
       "      <td>0.074192</td>\n",
       "      <td>True</td>\n",
       "      <td>Rhodesian_ridgeback</td>\n",
       "      <td>0.072010</td>\n",
       "      <td>True</td>\n",
       "    </tr>\n",
       "    <tr>\n",
       "      <th>2</th>\n",
       "      <td>666033412701032449</td>\n",
       "      <td>https://pbs.twimg.com/media/CT4521TWwAEvMyu.jpg</td>\n",
       "      <td>1</td>\n",
       "      <td>German_shepherd</td>\n",
       "      <td>0.596461</td>\n",
       "      <td>True</td>\n",
       "      <td>malinois</td>\n",
       "      <td>0.138584</td>\n",
       "      <td>True</td>\n",
       "      <td>bloodhound</td>\n",
       "      <td>0.116197</td>\n",
       "      <td>True</td>\n",
       "    </tr>\n",
       "    <tr>\n",
       "      <th>3</th>\n",
       "      <td>666044226329800704</td>\n",
       "      <td>https://pbs.twimg.com/media/CT5Dr8HUEAA-lEu.jpg</td>\n",
       "      <td>1</td>\n",
       "      <td>Rhodesian_ridgeback</td>\n",
       "      <td>0.408143</td>\n",
       "      <td>True</td>\n",
       "      <td>redbone</td>\n",
       "      <td>0.360687</td>\n",
       "      <td>True</td>\n",
       "      <td>miniature_pinscher</td>\n",
       "      <td>0.222752</td>\n",
       "      <td>True</td>\n",
       "    </tr>\n",
       "  </tbody>\n",
       "</table>\n",
       "</div>"
      ],
      "text/plain": [
       "             tweet_id                                          jpg_url  \\\n",
       "0  666020888022790149  https://pbs.twimg.com/media/CT4udn0WwAA0aMy.jpg   \n",
       "1  666029285002620928  https://pbs.twimg.com/media/CT42GRgUYAA5iDo.jpg   \n",
       "2  666033412701032449  https://pbs.twimg.com/media/CT4521TWwAEvMyu.jpg   \n",
       "3  666044226329800704  https://pbs.twimg.com/media/CT5Dr8HUEAA-lEu.jpg   \n",
       "\n",
       "   img_num                      p1   p1_conf  p1_dog                  p2  \\\n",
       "0        1  Welsh_springer_spaniel  0.465074    True              collie   \n",
       "1        1                 redbone  0.506826    True  miniature_pinscher   \n",
       "2        1         German_shepherd  0.596461    True            malinois   \n",
       "3        1     Rhodesian_ridgeback  0.408143    True             redbone   \n",
       "\n",
       "    p2_conf  p2_dog                   p3   p3_conf  p3_dog  \n",
       "0  0.156665    True    Shetland_sheepdog  0.061428    True  \n",
       "1  0.074192    True  Rhodesian_ridgeback  0.072010    True  \n",
       "2  0.138584    True           bloodhound  0.116197    True  \n",
       "3  0.360687    True   miniature_pinscher  0.222752    True  "
      ]
     },
     "execution_count": 8,
     "metadata": {},
     "output_type": "execute_result"
    }
   ],
   "source": [
    "img.head(4)"
   ]
  },
  {
   "cell_type": "markdown",
   "metadata": {},
   "source": [
    "3. Use the Tweepy library to query additional data via the Twitter API (tweet_json.txt)"
   ]
  },
  {
   "cell_type": "code",
   "execution_count": null,
   "metadata": {},
   "outputs": [],
   "source": [
    "consumer_key = ''\n",
    "consumer_secret = ''\n",
    "access_token = ''\n",
    "access_secret = ''\n",
    "\n",
    "auth = tweepy.OAuthHandler(consumer_key, consumer_secret)\n",
    "auth.set_access_token(access_token, access_secret)\n",
    "\n",
    "api = tweepy.API(auth,wait_on_rate_limit = True )"
   ]
  },
  {
   "cell_type": "code",
   "execution_count": null,
   "metadata": {},
   "outputs": [],
   "source": [
    "##### NOTE TO STUDENT WITH MOBILE VERIFICATION ISSUES:\n",
    "# NOTE TO REVIEWER: this student had mobile verification issues so the following\n",
    "# Twitter API code was sent to this student from a Udacity instructor\n",
    "# Tweet IDs for which to gather additional data via Twitter's API\n",
    "tweet_ids = t_arch.tweet_id.values\n",
    "len(tweet_ids)\n",
    "\n",
    "# Query Twitter's API for JSON data for each tweet ID in the Twitter archive\n",
    "count = 0\n",
    "fails_dict = {}\n",
    "start = timer()\n",
    "# Save each tweet's returned JSON as a new line in a .txt file\n",
    "with open('tweet_json.txt', 'w') as outfile:\n",
    "    # This loop will likely take 20-30 minutes to run because of Twitter's rate limit\n",
    "    for tweet_id in tweet_ids:\n",
    "        count += 1\n",
    "        print(str(count) + \": \" + str(tweet_id))\n",
    "        try:\n",
    "            tweet = api.get_status(tweet_id, tweet_mode='extended')\n",
    "            print(\"Success\")\n",
    "            json.dump(tweet._json, outfile)\n",
    "            outfile.write('\\n')\n",
    "        except tweepy.TweepyException as e:\n",
    "            print(\"Fail\")\n",
    "            fails_dict[tweet_id] = e\n",
    "            pass\n",
    "end = timer()\n",
    "print(end - start)\n",
    "print(fails_dict)"
   ]
  },
  {
   "cell_type": "code",
   "execution_count": 9,
   "metadata": {},
   "outputs": [],
   "source": [
    "json_df = {}\n",
    "with open('tweet_json.txt' , 'r') as outfile :\n",
    "    file = outfile.readlines()\n",
    "for i in range(len(file)) :\n",
    "    json_df[i] = json.loads(file[i])\n"
   ]
  },
  {
   "cell_type": "code",
   "execution_count": 10,
   "metadata": {},
   "outputs": [],
   "source": [
    "dfjson = pd.DataFrame.from_dict(json_df , orient = 'index')"
   ]
  },
  {
   "cell_type": "code",
   "execution_count": 11,
   "metadata": {},
   "outputs": [
    {
     "data": {
      "text/html": [
       "<div>\n",
       "<style scoped>\n",
       "    .dataframe tbody tr th:only-of-type {\n",
       "        vertical-align: middle;\n",
       "    }\n",
       "\n",
       "    .dataframe tbody tr th {\n",
       "        vertical-align: top;\n",
       "    }\n",
       "\n",
       "    .dataframe thead th {\n",
       "        text-align: right;\n",
       "    }\n",
       "</style>\n",
       "<table border=\"1\" class=\"dataframe\">\n",
       "  <thead>\n",
       "    <tr style=\"text-align: right;\">\n",
       "      <th></th>\n",
       "      <th>created_at</th>\n",
       "      <th>id</th>\n",
       "      <th>id_str</th>\n",
       "      <th>full_text</th>\n",
       "      <th>truncated</th>\n",
       "      <th>display_text_range</th>\n",
       "      <th>entities</th>\n",
       "      <th>extended_entities</th>\n",
       "      <th>source</th>\n",
       "      <th>in_reply_to_status_id</th>\n",
       "      <th>...</th>\n",
       "      <th>favorited</th>\n",
       "      <th>retweeted</th>\n",
       "      <th>possibly_sensitive</th>\n",
       "      <th>possibly_sensitive_appealable</th>\n",
       "      <th>lang</th>\n",
       "      <th>retweeted_status</th>\n",
       "      <th>quoted_status_id</th>\n",
       "      <th>quoted_status_id_str</th>\n",
       "      <th>quoted_status_permalink</th>\n",
       "      <th>quoted_status</th>\n",
       "    </tr>\n",
       "  </thead>\n",
       "  <tbody>\n",
       "    <tr>\n",
       "      <th>0</th>\n",
       "      <td>Tue Aug 01 16:23:56 +0000 2017</td>\n",
       "      <td>892420643555336193</td>\n",
       "      <td>892420643555336193</td>\n",
       "      <td>This is Phineas. He's a mystical boy. Only eve...</td>\n",
       "      <td>False</td>\n",
       "      <td>[0, 85]</td>\n",
       "      <td>{'hashtags': [], 'symbols': [], 'user_mentions...</td>\n",
       "      <td>{'media': [{'id': 892420639486877696, 'id_str'...</td>\n",
       "      <td>&lt;a href=\"http://twitter.com/download/iphone\" r...</td>\n",
       "      <td>NaN</td>\n",
       "      <td>...</td>\n",
       "      <td>False</td>\n",
       "      <td>False</td>\n",
       "      <td>False</td>\n",
       "      <td>False</td>\n",
       "      <td>en</td>\n",
       "      <td>NaN</td>\n",
       "      <td>NaN</td>\n",
       "      <td>NaN</td>\n",
       "      <td>NaN</td>\n",
       "      <td>NaN</td>\n",
       "    </tr>\n",
       "    <tr>\n",
       "      <th>1</th>\n",
       "      <td>Tue Aug 01 00:17:27 +0000 2017</td>\n",
       "      <td>892177421306343426</td>\n",
       "      <td>892177421306343426</td>\n",
       "      <td>This is Tilly. She's just checking pup on you....</td>\n",
       "      <td>False</td>\n",
       "      <td>[0, 138]</td>\n",
       "      <td>{'hashtags': [], 'symbols': [], 'user_mentions...</td>\n",
       "      <td>{'media': [{'id': 892177413194625024, 'id_str'...</td>\n",
       "      <td>&lt;a href=\"http://twitter.com/download/iphone\" r...</td>\n",
       "      <td>NaN</td>\n",
       "      <td>...</td>\n",
       "      <td>False</td>\n",
       "      <td>False</td>\n",
       "      <td>False</td>\n",
       "      <td>False</td>\n",
       "      <td>en</td>\n",
       "      <td>NaN</td>\n",
       "      <td>NaN</td>\n",
       "      <td>NaN</td>\n",
       "      <td>NaN</td>\n",
       "      <td>NaN</td>\n",
       "    </tr>\n",
       "    <tr>\n",
       "      <th>2</th>\n",
       "      <td>Mon Jul 31 00:18:03 +0000 2017</td>\n",
       "      <td>891815181378084864</td>\n",
       "      <td>891815181378084864</td>\n",
       "      <td>This is Archie. He is a rare Norwegian Pouncin...</td>\n",
       "      <td>False</td>\n",
       "      <td>[0, 121]</td>\n",
       "      <td>{'hashtags': [], 'symbols': [], 'user_mentions...</td>\n",
       "      <td>{'media': [{'id': 891815175371796480, 'id_str'...</td>\n",
       "      <td>&lt;a href=\"http://twitter.com/download/iphone\" r...</td>\n",
       "      <td>NaN</td>\n",
       "      <td>...</td>\n",
       "      <td>False</td>\n",
       "      <td>False</td>\n",
       "      <td>False</td>\n",
       "      <td>False</td>\n",
       "      <td>en</td>\n",
       "      <td>NaN</td>\n",
       "      <td>NaN</td>\n",
       "      <td>NaN</td>\n",
       "      <td>NaN</td>\n",
       "      <td>NaN</td>\n",
       "    </tr>\n",
       "    <tr>\n",
       "      <th>3</th>\n",
       "      <td>Sun Jul 30 15:58:51 +0000 2017</td>\n",
       "      <td>891689557279858688</td>\n",
       "      <td>891689557279858688</td>\n",
       "      <td>This is Darla. She commenced a snooze mid meal...</td>\n",
       "      <td>False</td>\n",
       "      <td>[0, 79]</td>\n",
       "      <td>{'hashtags': [], 'symbols': [], 'user_mentions...</td>\n",
       "      <td>{'media': [{'id': 891689552724799489, 'id_str'...</td>\n",
       "      <td>&lt;a href=\"http://twitter.com/download/iphone\" r...</td>\n",
       "      <td>NaN</td>\n",
       "      <td>...</td>\n",
       "      <td>False</td>\n",
       "      <td>False</td>\n",
       "      <td>False</td>\n",
       "      <td>False</td>\n",
       "      <td>en</td>\n",
       "      <td>NaN</td>\n",
       "      <td>NaN</td>\n",
       "      <td>NaN</td>\n",
       "      <td>NaN</td>\n",
       "      <td>NaN</td>\n",
       "    </tr>\n",
       "  </tbody>\n",
       "</table>\n",
       "<p>4 rows × 32 columns</p>\n",
       "</div>"
      ],
      "text/plain": [
       "                       created_at                  id              id_str  \\\n",
       "0  Tue Aug 01 16:23:56 +0000 2017  892420643555336193  892420643555336193   \n",
       "1  Tue Aug 01 00:17:27 +0000 2017  892177421306343426  892177421306343426   \n",
       "2  Mon Jul 31 00:18:03 +0000 2017  891815181378084864  891815181378084864   \n",
       "3  Sun Jul 30 15:58:51 +0000 2017  891689557279858688  891689557279858688   \n",
       "\n",
       "                                           full_text  truncated  \\\n",
       "0  This is Phineas. He's a mystical boy. Only eve...      False   \n",
       "1  This is Tilly. She's just checking pup on you....      False   \n",
       "2  This is Archie. He is a rare Norwegian Pouncin...      False   \n",
       "3  This is Darla. She commenced a snooze mid meal...      False   \n",
       "\n",
       "  display_text_range                                           entities  \\\n",
       "0            [0, 85]  {'hashtags': [], 'symbols': [], 'user_mentions...   \n",
       "1           [0, 138]  {'hashtags': [], 'symbols': [], 'user_mentions...   \n",
       "2           [0, 121]  {'hashtags': [], 'symbols': [], 'user_mentions...   \n",
       "3            [0, 79]  {'hashtags': [], 'symbols': [], 'user_mentions...   \n",
       "\n",
       "                                   extended_entities  \\\n",
       "0  {'media': [{'id': 892420639486877696, 'id_str'...   \n",
       "1  {'media': [{'id': 892177413194625024, 'id_str'...   \n",
       "2  {'media': [{'id': 891815175371796480, 'id_str'...   \n",
       "3  {'media': [{'id': 891689552724799489, 'id_str'...   \n",
       "\n",
       "                                              source  in_reply_to_status_id  \\\n",
       "0  <a href=\"http://twitter.com/download/iphone\" r...                    NaN   \n",
       "1  <a href=\"http://twitter.com/download/iphone\" r...                    NaN   \n",
       "2  <a href=\"http://twitter.com/download/iphone\" r...                    NaN   \n",
       "3  <a href=\"http://twitter.com/download/iphone\" r...                    NaN   \n",
       "\n",
       "   ... favorited  retweeted possibly_sensitive possibly_sensitive_appealable  \\\n",
       "0  ...     False      False              False                         False   \n",
       "1  ...     False      False              False                         False   \n",
       "2  ...     False      False              False                         False   \n",
       "3  ...     False      False              False                         False   \n",
       "\n",
       "  lang retweeted_status quoted_status_id quoted_status_id_str  \\\n",
       "0   en              NaN              NaN                  NaN   \n",
       "1   en              NaN              NaN                  NaN   \n",
       "2   en              NaN              NaN                  NaN   \n",
       "3   en              NaN              NaN                  NaN   \n",
       "\n",
       "  quoted_status_permalink  quoted_status  \n",
       "0                     NaN            NaN  \n",
       "1                     NaN            NaN  \n",
       "2                     NaN            NaN  \n",
       "3                     NaN            NaN  \n",
       "\n",
       "[4 rows x 32 columns]"
      ]
     },
     "execution_count": 11,
     "metadata": {},
     "output_type": "execute_result"
    }
   ],
   "source": [
    "dfjson.head(4)"
   ]
  },
  {
   "cell_type": "markdown",
   "metadata": {
    "extensions": {
     "jupyter_dashboards": {
      "version": 1,
      "views": {
       "grid_default": {
        "col": 4,
        "height": 4,
        "hidden": false,
        "row": 28,
        "width": 4
       },
       "report_default": {
        "hidden": false
       }
      }
     }
    }
   },
   "source": [
    "## Assessing Data\n",
    "In this section, detect and document at least **eight (8) quality issues and two (2) tidiness issue**. You must use **both** visual assessment\n",
    "programmatic assessement to assess the data.\n",
    "\n",
    "**Note:** pay attention to the following key points when you access the data.\n",
    "\n",
    "* You only want original ratings (no retweets) that have images. Though there are 5000+ tweets in the dataset, not all are dog ratings and some are retweets.\n",
    "* Assessing and cleaning the entire dataset completely would require a lot of time, and is not necessary to practice and demonstrate your skills in data wrangling. Therefore, the requirements of this project are only to assess and clean at least 8 quality issues and at least 2 tidiness issues in this dataset.\n",
    "* The fact that the rating numerators are greater than the denominators does not need to be cleaned. This [unique rating system](http://knowyourmeme.com/memes/theyre-good-dogs-brent) is a big part of the popularity of WeRateDogs.\n",
    "* You do not need to gather the tweets beyond August 1st, 2017. You can, but note that you won't be able to gather the image predictions for these tweets since you don't have access to the algorithm used.\n",
    "\n"
   ]
  },
  {
   "cell_type": "code",
   "execution_count": 14,
   "metadata": {},
   "outputs": [
    {
     "name": "stdout",
     "output_type": "stream",
     "text": [
      "<class 'pandas.core.frame.DataFrame'>\n",
      "RangeIndex: 2075 entries, 0 to 2074\n",
      "Data columns (total 12 columns):\n",
      " #   Column    Non-Null Count  Dtype  \n",
      "---  ------    --------------  -----  \n",
      " 0   tweet_id  2075 non-null   int64  \n",
      " 1   jpg_url   2075 non-null   object \n",
      " 2   img_num   2075 non-null   int64  \n",
      " 3   p1        2075 non-null   object \n",
      " 4   p1_conf   2075 non-null   float64\n",
      " 5   p1_dog    2075 non-null   bool   \n",
      " 6   p2        2075 non-null   object \n",
      " 7   p2_conf   2075 non-null   float64\n",
      " 8   p2_dog    2075 non-null   bool   \n",
      " 9   p3        2075 non-null   object \n",
      " 10  p3_conf   2075 non-null   float64\n",
      " 11  p3_dog    2075 non-null   bool   \n",
      "dtypes: bool(3), float64(3), int64(2), object(4)\n",
      "memory usage: 152.1+ KB\n"
     ]
    }
   ],
   "source": [
    "img.info()"
   ]
  },
  {
   "cell_type": "code",
   "execution_count": 15,
   "metadata": {},
   "outputs": [
    {
     "name": "stdout",
     "output_type": "stream",
     "text": [
      "<class 'pandas.core.frame.DataFrame'>\n",
      "RangeIndex: 2356 entries, 0 to 2355\n",
      "Data columns (total 17 columns):\n",
      " #   Column                      Non-Null Count  Dtype  \n",
      "---  ------                      --------------  -----  \n",
      " 0   tweet_id                    2356 non-null   int64  \n",
      " 1   in_reply_to_status_id       78 non-null     float64\n",
      " 2   in_reply_to_user_id         78 non-null     float64\n",
      " 3   timestamp                   2356 non-null   object \n",
      " 4   source                      2356 non-null   object \n",
      " 5   text                        2356 non-null   object \n",
      " 6   retweeted_status_id         181 non-null    float64\n",
      " 7   retweeted_status_user_id    181 non-null    float64\n",
      " 8   retweeted_status_timestamp  181 non-null    object \n",
      " 9   expanded_urls               2297 non-null   object \n",
      " 10  rating_numerator            2356 non-null   int64  \n",
      " 11  rating_denominator          2356 non-null   int64  \n",
      " 12  name                        2356 non-null   object \n",
      " 13  doggo                       2356 non-null   object \n",
      " 14  floofer                     2356 non-null   object \n",
      " 15  pupper                      2356 non-null   object \n",
      " 16  puppo                       2356 non-null   object \n",
      "dtypes: float64(4), int64(3), object(10)\n",
      "memory usage: 313.0+ KB\n"
     ]
    }
   ],
   "source": [
    "t_arch.info()"
   ]
  },
  {
   "cell_type": "code",
   "execution_count": 16,
   "metadata": {},
   "outputs": [
    {
     "name": "stdout",
     "output_type": "stream",
     "text": [
      "<class 'pandas.core.frame.DataFrame'>\n",
      "Int64Index: 2326 entries, 0 to 2325\n",
      "Data columns (total 32 columns):\n",
      " #   Column                         Non-Null Count  Dtype  \n",
      "---  ------                         --------------  -----  \n",
      " 0   created_at                     2326 non-null   object \n",
      " 1   id                             2326 non-null   int64  \n",
      " 2   id_str                         2326 non-null   object \n",
      " 3   full_text                      2326 non-null   object \n",
      " 4   truncated                      2326 non-null   bool   \n",
      " 5   display_text_range             2326 non-null   object \n",
      " 6   entities                       2326 non-null   object \n",
      " 7   extended_entities              2056 non-null   object \n",
      " 8   source                         2326 non-null   object \n",
      " 9   in_reply_to_status_id          77 non-null     float64\n",
      " 10  in_reply_to_status_id_str      77 non-null     object \n",
      " 11  in_reply_to_user_id            77 non-null     float64\n",
      " 12  in_reply_to_user_id_str        77 non-null     object \n",
      " 13  in_reply_to_screen_name        77 non-null     object \n",
      " 14  user                           2326 non-null   object \n",
      " 15  geo                            0 non-null      object \n",
      " 16  coordinates                    0 non-null      object \n",
      " 17  place                          1 non-null      object \n",
      " 18  contributors                   0 non-null      object \n",
      " 19  is_quote_status                2326 non-null   bool   \n",
      " 20  retweet_count                  2326 non-null   int64  \n",
      " 21  favorite_count                 2326 non-null   int64  \n",
      " 22  favorited                      2326 non-null   bool   \n",
      " 23  retweeted                      2326 non-null   bool   \n",
      " 24  possibly_sensitive             2194 non-null   object \n",
      " 25  possibly_sensitive_appealable  2194 non-null   object \n",
      " 26  lang                           2326 non-null   object \n",
      " 27  retweeted_status               160 non-null    object \n",
      " 28  quoted_status_id               26 non-null     float64\n",
      " 29  quoted_status_id_str           26 non-null     object \n",
      " 30  quoted_status_permalink        26 non-null     object \n",
      " 31  quoted_status                  24 non-null     object \n",
      "dtypes: bool(4), float64(3), int64(3), object(22)\n",
      "memory usage: 536.1+ KB\n"
     ]
    }
   ],
   "source": [
    "dfjson.info()"
   ]
  },
  {
   "cell_type": "code",
   "execution_count": 17,
   "metadata": {},
   "outputs": [
    {
     "data": {
      "text/html": [
       "<div>\n",
       "<style scoped>\n",
       "    .dataframe tbody tr th:only-of-type {\n",
       "        vertical-align: middle;\n",
       "    }\n",
       "\n",
       "    .dataframe tbody tr th {\n",
       "        vertical-align: top;\n",
       "    }\n",
       "\n",
       "    .dataframe thead th {\n",
       "        text-align: right;\n",
       "    }\n",
       "</style>\n",
       "<table border=\"1\" class=\"dataframe\">\n",
       "  <thead>\n",
       "    <tr style=\"text-align: right;\">\n",
       "      <th></th>\n",
       "      <th>id</th>\n",
       "      <th>in_reply_to_status_id</th>\n",
       "      <th>in_reply_to_user_id</th>\n",
       "      <th>retweet_count</th>\n",
       "      <th>favorite_count</th>\n",
       "      <th>quoted_status_id</th>\n",
       "    </tr>\n",
       "  </thead>\n",
       "  <tbody>\n",
       "    <tr>\n",
       "      <th>count</th>\n",
       "      <td>2.326000e+03</td>\n",
       "      <td>7.700000e+01</td>\n",
       "      <td>7.700000e+01</td>\n",
       "      <td>2326.000000</td>\n",
       "      <td>2326.000000</td>\n",
       "      <td>2.600000e+01</td>\n",
       "    </tr>\n",
       "    <tr>\n",
       "      <th>mean</th>\n",
       "      <td>7.417895e+17</td>\n",
       "      <td>7.440692e+17</td>\n",
       "      <td>2.040329e+16</td>\n",
       "      <td>2461.379192</td>\n",
       "      <td>7029.622528</td>\n",
       "      <td>8.113972e+17</td>\n",
       "    </tr>\n",
       "    <tr>\n",
       "      <th>std</th>\n",
       "      <td>6.822240e+16</td>\n",
       "      <td>7.524295e+16</td>\n",
       "      <td>1.260797e+17</td>\n",
       "      <td>4168.024944</td>\n",
       "      <td>10921.253686</td>\n",
       "      <td>6.295843e+16</td>\n",
       "    </tr>\n",
       "    <tr>\n",
       "      <th>min</th>\n",
       "      <td>6.660209e+17</td>\n",
       "      <td>6.658147e+17</td>\n",
       "      <td>1.185634e+07</td>\n",
       "      <td>1.000000</td>\n",
       "      <td>0.000000</td>\n",
       "      <td>6.721083e+17</td>\n",
       "    </tr>\n",
       "    <tr>\n",
       "      <th>25%</th>\n",
       "      <td>6.780814e+17</td>\n",
       "      <td>6.757073e+17</td>\n",
       "      <td>3.589728e+08</td>\n",
       "      <td>492.250000</td>\n",
       "      <td>1219.000000</td>\n",
       "      <td>7.761338e+17</td>\n",
       "    </tr>\n",
       "    <tr>\n",
       "      <th>50%</th>\n",
       "      <td>7.178159e+17</td>\n",
       "      <td>7.032559e+17</td>\n",
       "      <td>4.196984e+09</td>\n",
       "      <td>1147.500000</td>\n",
       "      <td>3040.500000</td>\n",
       "      <td>8.281173e+17</td>\n",
       "    </tr>\n",
       "    <tr>\n",
       "      <th>75%</th>\n",
       "      <td>7.986600e+17</td>\n",
       "      <td>8.233264e+17</td>\n",
       "      <td>4.196984e+09</td>\n",
       "      <td>2847.500000</td>\n",
       "      <td>8573.500000</td>\n",
       "      <td>8.637581e+17</td>\n",
       "    </tr>\n",
       "    <tr>\n",
       "      <th>max</th>\n",
       "      <td>8.924206e+17</td>\n",
       "      <td>8.862664e+17</td>\n",
       "      <td>8.405479e+17</td>\n",
       "      <td>70408.000000</td>\n",
       "      <td>144275.000000</td>\n",
       "      <td>8.860534e+17</td>\n",
       "    </tr>\n",
       "  </tbody>\n",
       "</table>\n",
       "</div>"
      ],
      "text/plain": [
       "                 id  in_reply_to_status_id  in_reply_to_user_id  \\\n",
       "count  2.326000e+03           7.700000e+01         7.700000e+01   \n",
       "mean   7.417895e+17           7.440692e+17         2.040329e+16   \n",
       "std    6.822240e+16           7.524295e+16         1.260797e+17   \n",
       "min    6.660209e+17           6.658147e+17         1.185634e+07   \n",
       "25%    6.780814e+17           6.757073e+17         3.589728e+08   \n",
       "50%    7.178159e+17           7.032559e+17         4.196984e+09   \n",
       "75%    7.986600e+17           8.233264e+17         4.196984e+09   \n",
       "max    8.924206e+17           8.862664e+17         8.405479e+17   \n",
       "\n",
       "       retweet_count  favorite_count  quoted_status_id  \n",
       "count    2326.000000     2326.000000      2.600000e+01  \n",
       "mean     2461.379192     7029.622528      8.113972e+17  \n",
       "std      4168.024944    10921.253686      6.295843e+16  \n",
       "min         1.000000        0.000000      6.721083e+17  \n",
       "25%       492.250000     1219.000000      7.761338e+17  \n",
       "50%      1147.500000     3040.500000      8.281173e+17  \n",
       "75%      2847.500000     8573.500000      8.637581e+17  \n",
       "max     70408.000000   144275.000000      8.860534e+17  "
      ]
     },
     "execution_count": 17,
     "metadata": {},
     "output_type": "execute_result"
    }
   ],
   "source": [
    "dfjson.describe()"
   ]
  },
  {
   "cell_type": "markdown",
   "metadata": {},
   "source": [
    "### Quality issues\n",
    "\n",
    "\n",
    "1. filter the retweets , not all retweets have images , we need original ratings\n",
    "\n",
    "2. Display text range must be integer\n",
    "\n",
    "3. created_at must be a date type\n",
    "\n",
    "4. None values must be null not object type\n",
    "\n",
    "5. there are Missing data , we have to clean the data seet from those missing data\n",
    "\n",
    "6. Check for duplicated ids\n",
    "\n",
    "7. Name column has some non valide names\n",
    "\n",
    "8. entities and extended_entities must be dicts \n",
    "\n",
    "9. Leave only dogs retweets\n"
   ]
  },
  {
   "cell_type": "markdown",
   "metadata": {
    "extensions": {
     "jupyter_dashboards": {
      "version": 1,
      "views": {
       "grid_default": {
        "col": 0,
        "height": 7,
        "hidden": false,
        "row": 40,
        "width": 12
       },
       "report_default": {
        "hidden": false
       }
      }
     }
    }
   },
   "source": [
    "### Tidiness issues\n",
    "1. Make Only one Dataset\n",
    "\n",
    "2. Make sure each column contains only one variable\n"
   ]
  },
  {
   "cell_type": "markdown",
   "metadata": {
    "extensions": {
     "jupyter_dashboards": {
      "version": 1,
      "views": {
       "grid_default": {
        "col": 4,
        "height": 4,
        "hidden": false,
        "row": 32,
        "width": 4
       },
       "report_default": {
        "hidden": false
       }
      }
     }
    }
   },
   "source": [
    "## Cleaning Data\n",
    "\n",
    "In this section, clean **all** of the issues you documented while assessing. \n",
    "\n",
    "**Note:** Make a copy of the original data before cleaning. Cleaning includes merging individual pieces of data according to the rules of [tidy data](https://cran.r-project.org/web/packages/tidyr/vignettes/tidy-data.html). The result should be a high-quality and tidy master pandas DataFrame (or DataFrames, if appropriate)."
   ]
  },
  {
   "cell_type": "code",
   "execution_count": 12,
   "metadata": {},
   "outputs": [],
   "source": [
    "# Make copies of original pieces of data\n",
    "df1 = dfjson.copy()\n",
    "df2 = img.copy()\n",
    "df3 = t_arch.copy()"
   ]
  },
  {
   "cell_type": "markdown",
   "metadata": {},
   "source": [
    "### Tidiness Issues :"
   ]
  },
  {
   "cell_type": "markdown",
   "metadata": {},
   "source": [
    "### Issue #1: Make only one dataset"
   ]
  },
  {
   "cell_type": "markdown",
   "metadata": {},
   "source": [
    "#### Define: First we need to merge all datasets to one dataset to make a good view on the informations we have "
   ]
  },
  {
   "cell_type": "markdown",
   "metadata": {},
   "source": [
    "#### Code"
   ]
  },
  {
   "cell_type": "code",
   "execution_count": 13,
   "metadata": {},
   "outputs": [],
   "source": [
    "df2.rename(columns = {\"tweet_id\" : 'id' , \"p1\":\"type\"} , inplace = True)"
   ]
  },
  {
   "cell_type": "code",
   "execution_count": 14,
   "metadata": {},
   "outputs": [],
   "source": [
    "dfmerg1 = df1.merge(df2 , on = 'id')"
   ]
  },
  {
   "cell_type": "code",
   "execution_count": 15,
   "metadata": {},
   "outputs": [],
   "source": [
    "df3.rename(columns = {\"tweet_id\" : 'id'} , inplace = True)"
   ]
  },
  {
   "cell_type": "code",
   "execution_count": 16,
   "metadata": {},
   "outputs": [],
   "source": [
    "df_tot = dfmerg1.merge(df3 , on = 'id')"
   ]
  },
  {
   "cell_type": "markdown",
   "metadata": {},
   "source": [
    "#### Test"
   ]
  },
  {
   "cell_type": "code",
   "execution_count": 29,
   "metadata": {},
   "outputs": [
    {
     "data": {
      "text/html": [
       "<div>\n",
       "<style scoped>\n",
       "    .dataframe tbody tr th:only-of-type {\n",
       "        vertical-align: middle;\n",
       "    }\n",
       "\n",
       "    .dataframe tbody tr th {\n",
       "        vertical-align: top;\n",
       "    }\n",
       "\n",
       "    .dataframe thead th {\n",
       "        text-align: right;\n",
       "    }\n",
       "</style>\n",
       "<table border=\"1\" class=\"dataframe\">\n",
       "  <thead>\n",
       "    <tr style=\"text-align: right;\">\n",
       "      <th></th>\n",
       "      <th>created_at</th>\n",
       "      <th>id</th>\n",
       "      <th>id_str</th>\n",
       "      <th>full_text</th>\n",
       "      <th>truncated</th>\n",
       "      <th>display_text_range</th>\n",
       "      <th>entities</th>\n",
       "      <th>extended_entities</th>\n",
       "      <th>source_x</th>\n",
       "      <th>in_reply_to_status_id_x</th>\n",
       "      <th>...</th>\n",
       "      <th>retweeted_status_user_id</th>\n",
       "      <th>retweeted_status_timestamp</th>\n",
       "      <th>expanded_urls</th>\n",
       "      <th>rating_numerator</th>\n",
       "      <th>rating_denominator</th>\n",
       "      <th>name</th>\n",
       "      <th>doggo</th>\n",
       "      <th>floofer</th>\n",
       "      <th>pupper</th>\n",
       "      <th>puppo</th>\n",
       "    </tr>\n",
       "  </thead>\n",
       "  <tbody>\n",
       "    <tr>\n",
       "      <th>0</th>\n",
       "      <td>Tue Aug 01 16:23:56 +0000 2017</td>\n",
       "      <td>892420643555336193</td>\n",
       "      <td>892420643555336193</td>\n",
       "      <td>This is Phineas. He's a mystical boy. Only eve...</td>\n",
       "      <td>False</td>\n",
       "      <td>[0, 85]</td>\n",
       "      <td>{'hashtags': [], 'symbols': [], 'user_mentions...</td>\n",
       "      <td>{'media': [{'id': 892420639486877696, 'id_str'...</td>\n",
       "      <td>&lt;a href=\"http://twitter.com/download/iphone\" r...</td>\n",
       "      <td>NaN</td>\n",
       "      <td>...</td>\n",
       "      <td>NaN</td>\n",
       "      <td>NaN</td>\n",
       "      <td>https://twitter.com/dog_rates/status/892420643...</td>\n",
       "      <td>13</td>\n",
       "      <td>10</td>\n",
       "      <td>Phineas</td>\n",
       "      <td>None</td>\n",
       "      <td>None</td>\n",
       "      <td>None</td>\n",
       "      <td>None</td>\n",
       "    </tr>\n",
       "    <tr>\n",
       "      <th>1</th>\n",
       "      <td>Tue Aug 01 00:17:27 +0000 2017</td>\n",
       "      <td>892177421306343426</td>\n",
       "      <td>892177421306343426</td>\n",
       "      <td>This is Tilly. She's just checking pup on you....</td>\n",
       "      <td>False</td>\n",
       "      <td>[0, 138]</td>\n",
       "      <td>{'hashtags': [], 'symbols': [], 'user_mentions...</td>\n",
       "      <td>{'media': [{'id': 892177413194625024, 'id_str'...</td>\n",
       "      <td>&lt;a href=\"http://twitter.com/download/iphone\" r...</td>\n",
       "      <td>NaN</td>\n",
       "      <td>...</td>\n",
       "      <td>NaN</td>\n",
       "      <td>NaN</td>\n",
       "      <td>https://twitter.com/dog_rates/status/892177421...</td>\n",
       "      <td>13</td>\n",
       "      <td>10</td>\n",
       "      <td>Tilly</td>\n",
       "      <td>None</td>\n",
       "      <td>None</td>\n",
       "      <td>None</td>\n",
       "      <td>None</td>\n",
       "    </tr>\n",
       "    <tr>\n",
       "      <th>2</th>\n",
       "      <td>Mon Jul 31 00:18:03 +0000 2017</td>\n",
       "      <td>891815181378084864</td>\n",
       "      <td>891815181378084864</td>\n",
       "      <td>This is Archie. He is a rare Norwegian Pouncin...</td>\n",
       "      <td>False</td>\n",
       "      <td>[0, 121]</td>\n",
       "      <td>{'hashtags': [], 'symbols': [], 'user_mentions...</td>\n",
       "      <td>{'media': [{'id': 891815175371796480, 'id_str'...</td>\n",
       "      <td>&lt;a href=\"http://twitter.com/download/iphone\" r...</td>\n",
       "      <td>NaN</td>\n",
       "      <td>...</td>\n",
       "      <td>NaN</td>\n",
       "      <td>NaN</td>\n",
       "      <td>https://twitter.com/dog_rates/status/891815181...</td>\n",
       "      <td>12</td>\n",
       "      <td>10</td>\n",
       "      <td>Archie</td>\n",
       "      <td>None</td>\n",
       "      <td>None</td>\n",
       "      <td>None</td>\n",
       "      <td>None</td>\n",
       "    </tr>\n",
       "    <tr>\n",
       "      <th>3</th>\n",
       "      <td>Sun Jul 30 15:58:51 +0000 2017</td>\n",
       "      <td>891689557279858688</td>\n",
       "      <td>891689557279858688</td>\n",
       "      <td>This is Darla. She commenced a snooze mid meal...</td>\n",
       "      <td>False</td>\n",
       "      <td>[0, 79]</td>\n",
       "      <td>{'hashtags': [], 'symbols': [], 'user_mentions...</td>\n",
       "      <td>{'media': [{'id': 891689552724799489, 'id_str'...</td>\n",
       "      <td>&lt;a href=\"http://twitter.com/download/iphone\" r...</td>\n",
       "      <td>NaN</td>\n",
       "      <td>...</td>\n",
       "      <td>NaN</td>\n",
       "      <td>NaN</td>\n",
       "      <td>https://twitter.com/dog_rates/status/891689557...</td>\n",
       "      <td>13</td>\n",
       "      <td>10</td>\n",
       "      <td>Darla</td>\n",
       "      <td>None</td>\n",
       "      <td>None</td>\n",
       "      <td>None</td>\n",
       "      <td>None</td>\n",
       "    </tr>\n",
       "  </tbody>\n",
       "</table>\n",
       "<p>4 rows × 59 columns</p>\n",
       "</div>"
      ],
      "text/plain": [
       "                       created_at                  id              id_str  \\\n",
       "0  Tue Aug 01 16:23:56 +0000 2017  892420643555336193  892420643555336193   \n",
       "1  Tue Aug 01 00:17:27 +0000 2017  892177421306343426  892177421306343426   \n",
       "2  Mon Jul 31 00:18:03 +0000 2017  891815181378084864  891815181378084864   \n",
       "3  Sun Jul 30 15:58:51 +0000 2017  891689557279858688  891689557279858688   \n",
       "\n",
       "                                           full_text  truncated  \\\n",
       "0  This is Phineas. He's a mystical boy. Only eve...      False   \n",
       "1  This is Tilly. She's just checking pup on you....      False   \n",
       "2  This is Archie. He is a rare Norwegian Pouncin...      False   \n",
       "3  This is Darla. She commenced a snooze mid meal...      False   \n",
       "\n",
       "  display_text_range                                           entities  \\\n",
       "0            [0, 85]  {'hashtags': [], 'symbols': [], 'user_mentions...   \n",
       "1           [0, 138]  {'hashtags': [], 'symbols': [], 'user_mentions...   \n",
       "2           [0, 121]  {'hashtags': [], 'symbols': [], 'user_mentions...   \n",
       "3            [0, 79]  {'hashtags': [], 'symbols': [], 'user_mentions...   \n",
       "\n",
       "                                   extended_entities  \\\n",
       "0  {'media': [{'id': 892420639486877696, 'id_str'...   \n",
       "1  {'media': [{'id': 892177413194625024, 'id_str'...   \n",
       "2  {'media': [{'id': 891815175371796480, 'id_str'...   \n",
       "3  {'media': [{'id': 891689552724799489, 'id_str'...   \n",
       "\n",
       "                                            source_x  in_reply_to_status_id_x  \\\n",
       "0  <a href=\"http://twitter.com/download/iphone\" r...                      NaN   \n",
       "1  <a href=\"http://twitter.com/download/iphone\" r...                      NaN   \n",
       "2  <a href=\"http://twitter.com/download/iphone\" r...                      NaN   \n",
       "3  <a href=\"http://twitter.com/download/iphone\" r...                      NaN   \n",
       "\n",
       "   ... retweeted_status_user_id  retweeted_status_timestamp  \\\n",
       "0  ...                      NaN                         NaN   \n",
       "1  ...                      NaN                         NaN   \n",
       "2  ...                      NaN                         NaN   \n",
       "3  ...                      NaN                         NaN   \n",
       "\n",
       "                                       expanded_urls rating_numerator  \\\n",
       "0  https://twitter.com/dog_rates/status/892420643...               13   \n",
       "1  https://twitter.com/dog_rates/status/892177421...               13   \n",
       "2  https://twitter.com/dog_rates/status/891815181...               12   \n",
       "3  https://twitter.com/dog_rates/status/891689557...               13   \n",
       "\n",
       "  rating_denominator     name doggo floofer pupper  puppo  \n",
       "0                 10  Phineas  None    None   None   None  \n",
       "1                 10    Tilly  None    None   None   None  \n",
       "2                 10   Archie  None    None   None   None  \n",
       "3                 10    Darla  None    None   None   None  \n",
       "\n",
       "[4 rows x 59 columns]"
      ]
     },
     "execution_count": 29,
     "metadata": {},
     "output_type": "execute_result"
    }
   ],
   "source": [
    "df_tot.head(4)"
   ]
  },
  {
   "cell_type": "markdown",
   "metadata": {},
   "source": [
    "### Issue #2: Make sure each column contains only one variable"
   ]
  },
  {
   "cell_type": "markdown",
   "metadata": {
    "collapsed": true,
    "extensions": {
     "jupyter_dashboards": {
      "version": 1,
      "views": {
       "grid_default": {
        "hidden": true
       },
       "report_default": {
        "hidden": true
       }
      }
     }
    }
   },
   "source": [
    "#### Define : some columns contains multiple variables in them we should merge them to make use of every information effectively"
   ]
  },
  {
   "cell_type": "markdown",
   "metadata": {},
   "source": [
    "#### Code"
   ]
  },
  {
   "cell_type": "code",
   "execution_count": 32,
   "metadata": {},
   "outputs": [],
   "source": [
    "df_1_clean = df_tot.copy()"
   ]
  },
  {
   "cell_type": "code",
   "execution_count": 37,
   "metadata": {},
   "outputs": [],
   "source": [
    "# First replace None in stage columns with empty string as follows.\n",
    "df_1_clean.doggo.replace('None', '', inplace=True)  # Like this do replacements for all four stages\n",
    "df_1_clean.floofer.replace('None', '', inplace=True)\n",
    "df_1_clean.puppo.replace('None', '', inplace=True)"
   ]
  },
  {
   "cell_type": "code",
   "execution_count": 38,
   "metadata": {},
   "outputs": [],
   "source": [
    "# Then combine stage columns.\n",
    "df_1_clean['stage'] = df_1_clean.doggo + df_1_clean.floofer + df_1_clean.pupper + df_1_clean.puppo"
   ]
  },
  {
   "cell_type": "code",
   "execution_count": 39,
   "metadata": {},
   "outputs": [],
   "source": [
    "# Then format entries with multiple dog stages which appeared like doggopupper.\n",
    "\n",
    "df_1_clean.loc[df_1_clean.stage == 'doggopupper', 'stage'] = 'doggo,pupper' \n",
    "df_1_clean.loc[df_1_clean.stage == 'doggopuppo', 'stage'] = 'doggo,puppo' \n",
    "df_1_clean.loc[df_1_clean.stage == 'doggofloofer', 'stage'] = 'doggo,floofer'"
   ]
  },
  {
   "cell_type": "code",
   "execution_count": 40,
   "metadata": {},
   "outputs": [],
   "source": [
    "df_v1 = df_1_clean.copy()"
   ]
  },
  {
   "cell_type": "code",
   "execution_count": 41,
   "metadata": {},
   "outputs": [
    {
     "name": "stdout",
     "output_type": "stream",
     "text": [
      "<class 'pandas.core.frame.DataFrame'>\n",
      "Int64Index: 2056 entries, 0 to 2055\n",
      "Data columns (total 60 columns):\n",
      " #   Column                         Non-Null Count  Dtype  \n",
      "---  ------                         --------------  -----  \n",
      " 0   created_at                     2056 non-null   object \n",
      " 1   id                             2056 non-null   int64  \n",
      " 2   id_str                         2056 non-null   object \n",
      " 3   full_text                      2056 non-null   object \n",
      " 4   truncated                      2056 non-null   bool   \n",
      " 5   display_text_range             2056 non-null   object \n",
      " 6   entities                       2056 non-null   object \n",
      " 7   extended_entities              2056 non-null   object \n",
      " 8   source_x                       2056 non-null   object \n",
      " 9   in_reply_to_status_id_x        23 non-null     float64\n",
      " 10  in_reply_to_status_id_str      23 non-null     object \n",
      " 11  in_reply_to_user_id_x          23 non-null     float64\n",
      " 12  in_reply_to_user_id_str        23 non-null     object \n",
      " 13  in_reply_to_screen_name        23 non-null     object \n",
      " 14  user                           2056 non-null   object \n",
      " 15  geo                            0 non-null      object \n",
      " 16  coordinates                    0 non-null      object \n",
      " 17  place                          1 non-null      object \n",
      " 18  contributors                   0 non-null      object \n",
      " 19  is_quote_status                2056 non-null   bool   \n",
      " 20  retweet_count                  2056 non-null   int64  \n",
      " 21  favorite_count                 2056 non-null   int64  \n",
      " 22  favorited                      2056 non-null   bool   \n",
      " 23  retweeted                      2056 non-null   bool   \n",
      " 24  possibly_sensitive             2056 non-null   object \n",
      " 25  possibly_sensitive_appealable  2056 non-null   object \n",
      " 26  lang                           2056 non-null   object \n",
      " 27  retweeted_status               71 non-null     object \n",
      " 28  quoted_status_id               0 non-null      float64\n",
      " 29  quoted_status_id_str           0 non-null      object \n",
      " 30  quoted_status_permalink        0 non-null      object \n",
      " 31  quoted_status                  0 non-null      object \n",
      " 32  jpg_url                        2056 non-null   object \n",
      " 33  img_num                        2056 non-null   int64  \n",
      " 34  type                           2056 non-null   object \n",
      " 35  p1_conf                        2056 non-null   float64\n",
      " 36  p1_dog                         2056 non-null   bool   \n",
      " 37  p2                             2056 non-null   object \n",
      " 38  p2_conf                        2056 non-null   float64\n",
      " 39  p2_dog                         2056 non-null   bool   \n",
      " 40  p3                             2056 non-null   object \n",
      " 41  p3_conf                        2056 non-null   float64\n",
      " 42  p3_dog                         2056 non-null   bool   \n",
      " 43  in_reply_to_status_id_y        23 non-null     float64\n",
      " 44  in_reply_to_user_id_y          23 non-null     float64\n",
      " 45  timestamp                      2056 non-null   object \n",
      " 46  source_y                       2056 non-null   object \n",
      " 47  text                           2056 non-null   object \n",
      " 48  retweeted_status_id            71 non-null     float64\n",
      " 49  retweeted_status_user_id       71 non-null     float64\n",
      " 50  retweeted_status_timestamp     71 non-null     object \n",
      " 51  expanded_urls                  2056 non-null   object \n",
      " 52  rating_numerator               2056 non-null   int64  \n",
      " 53  rating_denominator             2056 non-null   int64  \n",
      " 54  name                           2056 non-null   object \n",
      " 55  doggo                          2056 non-null   object \n",
      " 56  floofer                        2056 non-null   object \n",
      " 57  pupper                         2056 non-null   object \n",
      " 58  puppo                          2056 non-null   object \n",
      " 59  stage                          2056 non-null   object \n",
      "dtypes: bool(7), float64(10), int64(6), object(37)\n",
      "memory usage: 946.0+ KB\n"
     ]
    }
   ],
   "source": [
    "df_v1.info()"
   ]
  },
  {
   "cell_type": "markdown",
   "metadata": {},
   "source": [
    "#### Test"
   ]
  },
  {
   "cell_type": "code",
   "execution_count": 42,
   "metadata": {},
   "outputs": [
    {
     "data": {
      "text/html": [
       "<div>\n",
       "<style scoped>\n",
       "    .dataframe tbody tr th:only-of-type {\n",
       "        vertical-align: middle;\n",
       "    }\n",
       "\n",
       "    .dataframe tbody tr th {\n",
       "        vertical-align: top;\n",
       "    }\n",
       "\n",
       "    .dataframe thead th {\n",
       "        text-align: right;\n",
       "    }\n",
       "</style>\n",
       "<table border=\"1\" class=\"dataframe\">\n",
       "  <thead>\n",
       "    <tr style=\"text-align: right;\">\n",
       "      <th></th>\n",
       "      <th>created_at</th>\n",
       "      <th>id</th>\n",
       "      <th>id_str</th>\n",
       "      <th>full_text</th>\n",
       "      <th>truncated</th>\n",
       "      <th>display_text_range</th>\n",
       "      <th>entities</th>\n",
       "      <th>extended_entities</th>\n",
       "      <th>source_x</th>\n",
       "      <th>in_reply_to_status_id_x</th>\n",
       "      <th>...</th>\n",
       "      <th>retweeted_status_timestamp</th>\n",
       "      <th>expanded_urls</th>\n",
       "      <th>rating_numerator</th>\n",
       "      <th>rating_denominator</th>\n",
       "      <th>name</th>\n",
       "      <th>doggo</th>\n",
       "      <th>floofer</th>\n",
       "      <th>pupper</th>\n",
       "      <th>puppo</th>\n",
       "      <th>stage</th>\n",
       "    </tr>\n",
       "  </thead>\n",
       "  <tbody>\n",
       "    <tr>\n",
       "      <th>1862</th>\n",
       "      <td>Wed Nov 25 17:40:53 +0000 2015</td>\n",
       "      <td>669571471778410496</td>\n",
       "      <td>669571471778410496</td>\n",
       "      <td>This is Keith. He's had 13 DUIs. 7/10 that's t...</td>\n",
       "      <td>False</td>\n",
       "      <td>[0, 83]</td>\n",
       "      <td>{'hashtags': [], 'symbols': [], 'user_mentions...</td>\n",
       "      <td>{'media': [{'id': 669571453801508864, 'id_str'...</td>\n",
       "      <td>&lt;a href=\"http://twitter.com/download/iphone\" r...</td>\n",
       "      <td>NaN</td>\n",
       "      <td>...</td>\n",
       "      <td>NaN</td>\n",
       "      <td>https://twitter.com/dog_rates/status/669571471...</td>\n",
       "      <td>7</td>\n",
       "      <td>10</td>\n",
       "      <td>Keith</td>\n",
       "      <td></td>\n",
       "      <td></td>\n",
       "      <td>None</td>\n",
       "      <td></td>\n",
       "      <td>None</td>\n",
       "    </tr>\n",
       "    <tr>\n",
       "      <th>646</th>\n",
       "      <td>Wed Aug 31 21:47:27 +0000 2016</td>\n",
       "      <td>771102124360998913</td>\n",
       "      <td>771102124360998913</td>\n",
       "      <td>This is Charlie. He works for @TODAYshow. Supe...</td>\n",
       "      <td>False</td>\n",
       "      <td>[0, 115]</td>\n",
       "      <td>{'hashtags': [], 'symbols': [], 'user_mentions...</td>\n",
       "      <td>{'media': [{'id': 771102115905372160, 'id_str'...</td>\n",
       "      <td>&lt;a href=\"http://twitter.com/download/iphone\" r...</td>\n",
       "      <td>NaN</td>\n",
       "      <td>...</td>\n",
       "      <td>NaN</td>\n",
       "      <td>https://twitter.com/dog_rates/status/771102124...</td>\n",
       "      <td>12</td>\n",
       "      <td>10</td>\n",
       "      <td>Charlie</td>\n",
       "      <td></td>\n",
       "      <td></td>\n",
       "      <td>None</td>\n",
       "      <td></td>\n",
       "      <td>None</td>\n",
       "    </tr>\n",
       "    <tr>\n",
       "      <th>1656</th>\n",
       "      <td>Mon Dec 07 02:13:55 +0000 2015</td>\n",
       "      <td>673686845050527744</td>\n",
       "      <td>673686845050527744</td>\n",
       "      <td>This is George. He's upset that the 4th of Jul...</td>\n",
       "      <td>False</td>\n",
       "      <td>[0, 93]</td>\n",
       "      <td>{'hashtags': [], 'symbols': [], 'user_mentions...</td>\n",
       "      <td>{'media': [{'id': 673686768529645568, 'id_str'...</td>\n",
       "      <td>&lt;a href=\"http://twitter.com/download/iphone\" r...</td>\n",
       "      <td>NaN</td>\n",
       "      <td>...</td>\n",
       "      <td>NaN</td>\n",
       "      <td>https://twitter.com/dog_rates/status/673686845...</td>\n",
       "      <td>11</td>\n",
       "      <td>10</td>\n",
       "      <td>George</td>\n",
       "      <td></td>\n",
       "      <td></td>\n",
       "      <td>None</td>\n",
       "      <td></td>\n",
       "      <td>None</td>\n",
       "    </tr>\n",
       "    <tr>\n",
       "      <th>852</th>\n",
       "      <td>Sat Jun 11 21:27:17 +0000 2016</td>\n",
       "      <td>741743634094141440</td>\n",
       "      <td>741743634094141440</td>\n",
       "      <td>Meet Aqua. She's a sandy pupper. Not sure how ...</td>\n",
       "      <td>False</td>\n",
       "      <td>[0, 115]</td>\n",
       "      <td>{'hashtags': [], 'symbols': [], 'user_mentions...</td>\n",
       "      <td>{'media': [{'id': 741743615312056320, 'id_str'...</td>\n",
       "      <td>&lt;a href=\"http://twitter.com/download/iphone\" r...</td>\n",
       "      <td>NaN</td>\n",
       "      <td>...</td>\n",
       "      <td>NaN</td>\n",
       "      <td>https://twitter.com/dog_rates/status/741743634...</td>\n",
       "      <td>11</td>\n",
       "      <td>10</td>\n",
       "      <td>Aqua</td>\n",
       "      <td></td>\n",
       "      <td></td>\n",
       "      <td>pupper</td>\n",
       "      <td></td>\n",
       "      <td>pupper</td>\n",
       "    </tr>\n",
       "    <tr>\n",
       "      <th>27</th>\n",
       "      <td>Sun Jul 16 20:14:00 +0000 2017</td>\n",
       "      <td>886680336477933568</td>\n",
       "      <td>886680336477933568</td>\n",
       "      <td>This is Derek. He's late for a dog meeting. 13...</td>\n",
       "      <td>False</td>\n",
       "      <td>[0, 71]</td>\n",
       "      <td>{'hashtags': [], 'symbols': [], 'user_mentions...</td>\n",
       "      <td>{'media': [{'id': 886680331239161856, 'id_str'...</td>\n",
       "      <td>&lt;a href=\"http://twitter.com/download/iphone\" r...</td>\n",
       "      <td>NaN</td>\n",
       "      <td>...</td>\n",
       "      <td>NaN</td>\n",
       "      <td>https://twitter.com/dog_rates/status/886680336...</td>\n",
       "      <td>13</td>\n",
       "      <td>10</td>\n",
       "      <td>Derek</td>\n",
       "      <td></td>\n",
       "      <td></td>\n",
       "      <td>None</td>\n",
       "      <td></td>\n",
       "      <td>None</td>\n",
       "    </tr>\n",
       "    <tr>\n",
       "      <th>1175</th>\n",
       "      <td>Sun Feb 14 03:01:06 +0000 2016</td>\n",
       "      <td>698703483621523456</td>\n",
       "      <td>698703483621523456</td>\n",
       "      <td>This is Rusty. He has no respect for POULTRY p...</td>\n",
       "      <td>False</td>\n",
       "      <td>[0, 116]</td>\n",
       "      <td>{'hashtags': [], 'symbols': [], 'user_mentions...</td>\n",
       "      <td>{'media': [{'id': 698703472636641280, 'id_str'...</td>\n",
       "      <td>&lt;a href=\"http://twitter.com/download/iphone\" r...</td>\n",
       "      <td>NaN</td>\n",
       "      <td>...</td>\n",
       "      <td>NaN</td>\n",
       "      <td>https://twitter.com/dog_rates/status/698703483...</td>\n",
       "      <td>7</td>\n",
       "      <td>10</td>\n",
       "      <td>Rusty</td>\n",
       "      <td></td>\n",
       "      <td></td>\n",
       "      <td>None</td>\n",
       "      <td></td>\n",
       "      <td>None</td>\n",
       "    </tr>\n",
       "  </tbody>\n",
       "</table>\n",
       "<p>6 rows × 60 columns</p>\n",
       "</div>"
      ],
      "text/plain": [
       "                          created_at                  id              id_str  \\\n",
       "1862  Wed Nov 25 17:40:53 +0000 2015  669571471778410496  669571471778410496   \n",
       "646   Wed Aug 31 21:47:27 +0000 2016  771102124360998913  771102124360998913   \n",
       "1656  Mon Dec 07 02:13:55 +0000 2015  673686845050527744  673686845050527744   \n",
       "852   Sat Jun 11 21:27:17 +0000 2016  741743634094141440  741743634094141440   \n",
       "27    Sun Jul 16 20:14:00 +0000 2017  886680336477933568  886680336477933568   \n",
       "1175  Sun Feb 14 03:01:06 +0000 2016  698703483621523456  698703483621523456   \n",
       "\n",
       "                                              full_text  truncated  \\\n",
       "1862  This is Keith. He's had 13 DUIs. 7/10 that's t...      False   \n",
       "646   This is Charlie. He works for @TODAYshow. Supe...      False   \n",
       "1656  This is George. He's upset that the 4th of Jul...      False   \n",
       "852   Meet Aqua. She's a sandy pupper. Not sure how ...      False   \n",
       "27    This is Derek. He's late for a dog meeting. 13...      False   \n",
       "1175  This is Rusty. He has no respect for POULTRY p...      False   \n",
       "\n",
       "     display_text_range                                           entities  \\\n",
       "1862            [0, 83]  {'hashtags': [], 'symbols': [], 'user_mentions...   \n",
       "646            [0, 115]  {'hashtags': [], 'symbols': [], 'user_mentions...   \n",
       "1656            [0, 93]  {'hashtags': [], 'symbols': [], 'user_mentions...   \n",
       "852            [0, 115]  {'hashtags': [], 'symbols': [], 'user_mentions...   \n",
       "27              [0, 71]  {'hashtags': [], 'symbols': [], 'user_mentions...   \n",
       "1175           [0, 116]  {'hashtags': [], 'symbols': [], 'user_mentions...   \n",
       "\n",
       "                                      extended_entities  \\\n",
       "1862  {'media': [{'id': 669571453801508864, 'id_str'...   \n",
       "646   {'media': [{'id': 771102115905372160, 'id_str'...   \n",
       "1656  {'media': [{'id': 673686768529645568, 'id_str'...   \n",
       "852   {'media': [{'id': 741743615312056320, 'id_str'...   \n",
       "27    {'media': [{'id': 886680331239161856, 'id_str'...   \n",
       "1175  {'media': [{'id': 698703472636641280, 'id_str'...   \n",
       "\n",
       "                                               source_x  \\\n",
       "1862  <a href=\"http://twitter.com/download/iphone\" r...   \n",
       "646   <a href=\"http://twitter.com/download/iphone\" r...   \n",
       "1656  <a href=\"http://twitter.com/download/iphone\" r...   \n",
       "852   <a href=\"http://twitter.com/download/iphone\" r...   \n",
       "27    <a href=\"http://twitter.com/download/iphone\" r...   \n",
       "1175  <a href=\"http://twitter.com/download/iphone\" r...   \n",
       "\n",
       "      in_reply_to_status_id_x  ... retweeted_status_timestamp  \\\n",
       "1862                      NaN  ...                        NaN   \n",
       "646                       NaN  ...                        NaN   \n",
       "1656                      NaN  ...                        NaN   \n",
       "852                       NaN  ...                        NaN   \n",
       "27                        NaN  ...                        NaN   \n",
       "1175                      NaN  ...                        NaN   \n",
       "\n",
       "                                          expanded_urls rating_numerator  \\\n",
       "1862  https://twitter.com/dog_rates/status/669571471...                7   \n",
       "646   https://twitter.com/dog_rates/status/771102124...               12   \n",
       "1656  https://twitter.com/dog_rates/status/673686845...               11   \n",
       "852   https://twitter.com/dog_rates/status/741743634...               11   \n",
       "27    https://twitter.com/dog_rates/status/886680336...               13   \n",
       "1175  https://twitter.com/dog_rates/status/698703483...                7   \n",
       "\n",
       "     rating_denominator     name doggo floofer  pupper puppo   stage  \n",
       "1862                 10    Keith                  None          None  \n",
       "646                  10  Charlie                  None          None  \n",
       "1656                 10   George                  None          None  \n",
       "852                  10     Aqua                pupper        pupper  \n",
       "27                   10    Derek                  None          None  \n",
       "1175                 10    Rusty                  None          None  \n",
       "\n",
       "[6 rows x 60 columns]"
      ]
     },
     "execution_count": 42,
     "metadata": {},
     "output_type": "execute_result"
    }
   ],
   "source": [
    "df_v1.sample(6)"
   ]
  },
  {
   "cell_type": "markdown",
   "metadata": {},
   "source": [
    "### Quality Issues :"
   ]
  },
  {
   "cell_type": "markdown",
   "metadata": {},
   "source": [
    "### Issue#1 : filter the retweets , not all retweets have images , we need original ratings"
   ]
  },
  {
   "cell_type": "markdown",
   "metadata": {},
   "source": [
    "#### Define : Get only the original tweets , not the retweeted ones (contains images) "
   ]
  },
  {
   "cell_type": "markdown",
   "metadata": {},
   "source": [
    "#### Code"
   ]
  },
  {
   "cell_type": "code",
   "execution_count": 43,
   "metadata": {},
   "outputs": [],
   "source": [
    "#That means we have to leave only the ids where retweeted status has null value\n",
    "df_v1 = df_v1[df_v1.retweeted_status.isnull()]"
   ]
  },
  {
   "cell_type": "markdown",
   "metadata": {},
   "source": [
    "#### Test"
   ]
  },
  {
   "cell_type": "code",
   "execution_count": 44,
   "metadata": {},
   "outputs": [
    {
     "name": "stdout",
     "output_type": "stream",
     "text": [
      "<class 'pandas.core.frame.DataFrame'>\n",
      "Int64Index: 1985 entries, 0 to 2055\n",
      "Data columns (total 60 columns):\n",
      " #   Column                         Non-Null Count  Dtype  \n",
      "---  ------                         --------------  -----  \n",
      " 0   created_at                     1985 non-null   object \n",
      " 1   id                             1985 non-null   int64  \n",
      " 2   id_str                         1985 non-null   object \n",
      " 3   full_text                      1985 non-null   object \n",
      " 4   truncated                      1985 non-null   bool   \n",
      " 5   display_text_range             1985 non-null   object \n",
      " 6   entities                       1985 non-null   object \n",
      " 7   extended_entities              1985 non-null   object \n",
      " 8   source_x                       1985 non-null   object \n",
      " 9   in_reply_to_status_id_x        23 non-null     float64\n",
      " 10  in_reply_to_status_id_str      23 non-null     object \n",
      " 11  in_reply_to_user_id_x          23 non-null     float64\n",
      " 12  in_reply_to_user_id_str        23 non-null     object \n",
      " 13  in_reply_to_screen_name        23 non-null     object \n",
      " 14  user                           1985 non-null   object \n",
      " 15  geo                            0 non-null      object \n",
      " 16  coordinates                    0 non-null      object \n",
      " 17  place                          1 non-null      object \n",
      " 18  contributors                   0 non-null      object \n",
      " 19  is_quote_status                1985 non-null   bool   \n",
      " 20  retweet_count                  1985 non-null   int64  \n",
      " 21  favorite_count                 1985 non-null   int64  \n",
      " 22  favorited                      1985 non-null   bool   \n",
      " 23  retweeted                      1985 non-null   bool   \n",
      " 24  possibly_sensitive             1985 non-null   object \n",
      " 25  possibly_sensitive_appealable  1985 non-null   object \n",
      " 26  lang                           1985 non-null   object \n",
      " 27  retweeted_status               0 non-null      object \n",
      " 28  quoted_status_id               0 non-null      float64\n",
      " 29  quoted_status_id_str           0 non-null      object \n",
      " 30  quoted_status_permalink        0 non-null      object \n",
      " 31  quoted_status                  0 non-null      object \n",
      " 32  jpg_url                        1985 non-null   object \n",
      " 33  img_num                        1985 non-null   int64  \n",
      " 34  type                           1985 non-null   object \n",
      " 35  p1_conf                        1985 non-null   float64\n",
      " 36  p1_dog                         1985 non-null   bool   \n",
      " 37  p2                             1985 non-null   object \n",
      " 38  p2_conf                        1985 non-null   float64\n",
      " 39  p2_dog                         1985 non-null   bool   \n",
      " 40  p3                             1985 non-null   object \n",
      " 41  p3_conf                        1985 non-null   float64\n",
      " 42  p3_dog                         1985 non-null   bool   \n",
      " 43  in_reply_to_status_id_y        23 non-null     float64\n",
      " 44  in_reply_to_user_id_y          23 non-null     float64\n",
      " 45  timestamp                      1985 non-null   object \n",
      " 46  source_y                       1985 non-null   object \n",
      " 47  text                           1985 non-null   object \n",
      " 48  retweeted_status_id            0 non-null      float64\n",
      " 49  retweeted_status_user_id       0 non-null      float64\n",
      " 50  retweeted_status_timestamp     0 non-null      object \n",
      " 51  expanded_urls                  1985 non-null   object \n",
      " 52  rating_numerator               1985 non-null   int64  \n",
      " 53  rating_denominator             1985 non-null   int64  \n",
      " 54  name                           1985 non-null   object \n",
      " 55  doggo                          1985 non-null   object \n",
      " 56  floofer                        1985 non-null   object \n",
      " 57  pupper                         1985 non-null   object \n",
      " 58  puppo                          1985 non-null   object \n",
      " 59  stage                          1985 non-null   object \n",
      "dtypes: bool(7), float64(10), int64(6), object(37)\n",
      "memory usage: 851.0+ KB\n"
     ]
    }
   ],
   "source": [
    "df_v1.info()"
   ]
  },
  {
   "cell_type": "markdown",
   "metadata": {},
   "source": [
    "### Issue #2 : Display text range must be integer"
   ]
  },
  {
   "cell_type": "markdown",
   "metadata": {},
   "source": [
    "#### Define : display text range must be an integer so that we can make comparaison and visualastions"
   ]
  },
  {
   "cell_type": "markdown",
   "metadata": {},
   "source": [
    "#### Code  "
   ]
  },
  {
   "cell_type": "code",
   "execution_count": 45,
   "metadata": {},
   "outputs": [
    {
     "data": {
      "text/plain": [
       "0     [0, 85]\n",
       "1    [0, 138]\n",
       "2    [0, 121]\n",
       "3     [0, 79]\n",
       "4    [0, 138]\n",
       "Name: display_text_range, dtype: object"
      ]
     },
     "execution_count": 45,
     "metadata": {},
     "output_type": "execute_result"
    }
   ],
   "source": [
    "#let's see how is it given\n",
    "df_v1.display_text_range[:5]"
   ]
  },
  {
   "cell_type": "code",
   "execution_count": 46,
   "metadata": {},
   "outputs": [],
   "source": [
    "num = []\n",
    "for i in df_v1.display_text_range :\n",
    "    num.append(i[-1])"
   ]
  },
  {
   "cell_type": "code",
   "execution_count": 47,
   "metadata": {},
   "outputs": [],
   "source": [
    "df_v1['display_text_range'] = np.array(num)"
   ]
  },
  {
   "cell_type": "code",
   "execution_count": 48,
   "metadata": {},
   "outputs": [
    {
     "data": {
      "text/html": [
       "<div>\n",
       "<style scoped>\n",
       "    .dataframe tbody tr th:only-of-type {\n",
       "        vertical-align: middle;\n",
       "    }\n",
       "\n",
       "    .dataframe tbody tr th {\n",
       "        vertical-align: top;\n",
       "    }\n",
       "\n",
       "    .dataframe thead th {\n",
       "        text-align: right;\n",
       "    }\n",
       "</style>\n",
       "<table border=\"1\" class=\"dataframe\">\n",
       "  <thead>\n",
       "    <tr style=\"text-align: right;\">\n",
       "      <th></th>\n",
       "      <th>created_at</th>\n",
       "      <th>id</th>\n",
       "      <th>id_str</th>\n",
       "      <th>full_text</th>\n",
       "      <th>truncated</th>\n",
       "      <th>display_text_range</th>\n",
       "      <th>entities</th>\n",
       "      <th>extended_entities</th>\n",
       "      <th>source_x</th>\n",
       "      <th>in_reply_to_status_id_x</th>\n",
       "      <th>...</th>\n",
       "      <th>retweeted_status_timestamp</th>\n",
       "      <th>expanded_urls</th>\n",
       "      <th>rating_numerator</th>\n",
       "      <th>rating_denominator</th>\n",
       "      <th>name</th>\n",
       "      <th>doggo</th>\n",
       "      <th>floofer</th>\n",
       "      <th>pupper</th>\n",
       "      <th>puppo</th>\n",
       "      <th>stage</th>\n",
       "    </tr>\n",
       "  </thead>\n",
       "  <tbody>\n",
       "    <tr>\n",
       "      <th>1946</th>\n",
       "      <td>Sat Nov 21 01:59:37 +0000 2015</td>\n",
       "      <td>667885044254572545</td>\n",
       "      <td>667885044254572545</td>\n",
       "      <td>Meet Stu. Stu has stacks on stacks and an eye ...</td>\n",
       "      <td>False</td>\n",
       "      <td>117</td>\n",
       "      <td>{'hashtags': [], 'symbols': [], 'user_mentions...</td>\n",
       "      <td>{'media': [{'id': 667885029767446528, 'id_str'...</td>\n",
       "      <td>&lt;a href=\"http://twitter.com/download/iphone\" r...</td>\n",
       "      <td>NaN</td>\n",
       "      <td>...</td>\n",
       "      <td>NaN</td>\n",
       "      <td>https://twitter.com/dog_rates/status/667885044...</td>\n",
       "      <td>10</td>\n",
       "      <td>10</td>\n",
       "      <td>Stu</td>\n",
       "      <td></td>\n",
       "      <td></td>\n",
       "      <td>None</td>\n",
       "      <td></td>\n",
       "      <td>None</td>\n",
       "    </tr>\n",
       "    <tr>\n",
       "      <th>861</th>\n",
       "      <td>Wed Jun 08 02:09:24 +0000 2016</td>\n",
       "      <td>740365076218183684</td>\n",
       "      <td>740365076218183684</td>\n",
       "      <td>When the photographer forgets to tell you wher...</td>\n",
       "      <td>False</td>\n",
       "      <td>64</td>\n",
       "      <td>{'hashtags': [], 'symbols': [], 'user_mentions...</td>\n",
       "      <td>{'media': [{'id': 740365062632812544, 'id_str'...</td>\n",
       "      <td>&lt;a href=\"http://twitter.com/download/iphone\" r...</td>\n",
       "      <td>NaN</td>\n",
       "      <td>...</td>\n",
       "      <td>NaN</td>\n",
       "      <td>https://twitter.com/dog_rates/status/740365076...</td>\n",
       "      <td>10</td>\n",
       "      <td>10</td>\n",
       "      <td>None</td>\n",
       "      <td></td>\n",
       "      <td></td>\n",
       "      <td>None</td>\n",
       "      <td></td>\n",
       "      <td>None</td>\n",
       "    </tr>\n",
       "    <tr>\n",
       "      <th>1894</th>\n",
       "      <td>Mon Nov 23 23:23:31 +0000 2015</td>\n",
       "      <td>668932921458302977</td>\n",
       "      <td>668932921458302977</td>\n",
       "      <td>This is Herald. He likes to swing. Subtle tong...</td>\n",
       "      <td>False</td>\n",
       "      <td>140</td>\n",
       "      <td>{'hashtags': [], 'symbols': [], 'user_mentions...</td>\n",
       "      <td>{'media': [{'id': 668932892672851968, 'id_str'...</td>\n",
       "      <td>&lt;a href=\"http://twitter.com/download/iphone\" r...</td>\n",
       "      <td>NaN</td>\n",
       "      <td>...</td>\n",
       "      <td>NaN</td>\n",
       "      <td>https://twitter.com/dog_rates/status/668932921...</td>\n",
       "      <td>9</td>\n",
       "      <td>10</td>\n",
       "      <td>Herald</td>\n",
       "      <td></td>\n",
       "      <td></td>\n",
       "      <td>None</td>\n",
       "      <td></td>\n",
       "      <td>None</td>\n",
       "    </tr>\n",
       "    <tr>\n",
       "      <th>1176</th>\n",
       "      <td>Sat Feb 13 22:29:29 +0000 2016</td>\n",
       "      <td>698635131305795584</td>\n",
       "      <td>698635131305795584</td>\n",
       "      <td>Here we are witnessing five Guatemalan Birch F...</td>\n",
       "      <td>False</td>\n",
       "      <td>134</td>\n",
       "      <td>{'hashtags': [], 'symbols': [], 'user_mentions...</td>\n",
       "      <td>{'media': [{'id': 698635005506015234, 'id_str'...</td>\n",
       "      <td>&lt;a href=\"http://twitter.com/download/iphone\" r...</td>\n",
       "      <td>NaN</td>\n",
       "      <td>...</td>\n",
       "      <td>NaN</td>\n",
       "      <td>https://twitter.com/dog_rates/status/698635131...</td>\n",
       "      <td>12</td>\n",
       "      <td>10</td>\n",
       "      <td>None</td>\n",
       "      <td></td>\n",
       "      <td></td>\n",
       "      <td>None</td>\n",
       "      <td></td>\n",
       "      <td>None</td>\n",
       "    </tr>\n",
       "    <tr>\n",
       "      <th>1774</th>\n",
       "      <td>Mon Nov 30 00:22:57 +0000 2015</td>\n",
       "      <td>671122204919246848</td>\n",
       "      <td>671122204919246848</td>\n",
       "      <td>Two miniature golden retrievers here. Webbed p...</td>\n",
       "      <td>False</td>\n",
       "      <td>136</td>\n",
       "      <td>{'hashtags': [], 'symbols': [], 'user_mentions...</td>\n",
       "      <td>{'media': [{'id': 671122197432418304, 'id_str'...</td>\n",
       "      <td>&lt;a href=\"http://twitter.com/download/iphone\" r...</td>\n",
       "      <td>NaN</td>\n",
       "      <td>...</td>\n",
       "      <td>NaN</td>\n",
       "      <td>https://twitter.com/dog_rates/status/671122204...</td>\n",
       "      <td>4</td>\n",
       "      <td>10</td>\n",
       "      <td>None</td>\n",
       "      <td></td>\n",
       "      <td></td>\n",
       "      <td>None</td>\n",
       "      <td></td>\n",
       "      <td>None</td>\n",
       "    </tr>\n",
       "  </tbody>\n",
       "</table>\n",
       "<p>5 rows × 60 columns</p>\n",
       "</div>"
      ],
      "text/plain": [
       "                          created_at                  id              id_str  \\\n",
       "1946  Sat Nov 21 01:59:37 +0000 2015  667885044254572545  667885044254572545   \n",
       "861   Wed Jun 08 02:09:24 +0000 2016  740365076218183684  740365076218183684   \n",
       "1894  Mon Nov 23 23:23:31 +0000 2015  668932921458302977  668932921458302977   \n",
       "1176  Sat Feb 13 22:29:29 +0000 2016  698635131305795584  698635131305795584   \n",
       "1774  Mon Nov 30 00:22:57 +0000 2015  671122204919246848  671122204919246848   \n",
       "\n",
       "                                              full_text  truncated  \\\n",
       "1946  Meet Stu. Stu has stacks on stacks and an eye ...      False   \n",
       "861   When the photographer forgets to tell you wher...      False   \n",
       "1894  This is Herald. He likes to swing. Subtle tong...      False   \n",
       "1176  Here we are witnessing five Guatemalan Birch F...      False   \n",
       "1774  Two miniature golden retrievers here. Webbed p...      False   \n",
       "\n",
       "      display_text_range                                           entities  \\\n",
       "1946                 117  {'hashtags': [], 'symbols': [], 'user_mentions...   \n",
       "861                   64  {'hashtags': [], 'symbols': [], 'user_mentions...   \n",
       "1894                 140  {'hashtags': [], 'symbols': [], 'user_mentions...   \n",
       "1176                 134  {'hashtags': [], 'symbols': [], 'user_mentions...   \n",
       "1774                 136  {'hashtags': [], 'symbols': [], 'user_mentions...   \n",
       "\n",
       "                                      extended_entities  \\\n",
       "1946  {'media': [{'id': 667885029767446528, 'id_str'...   \n",
       "861   {'media': [{'id': 740365062632812544, 'id_str'...   \n",
       "1894  {'media': [{'id': 668932892672851968, 'id_str'...   \n",
       "1176  {'media': [{'id': 698635005506015234, 'id_str'...   \n",
       "1774  {'media': [{'id': 671122197432418304, 'id_str'...   \n",
       "\n",
       "                                               source_x  \\\n",
       "1946  <a href=\"http://twitter.com/download/iphone\" r...   \n",
       "861   <a href=\"http://twitter.com/download/iphone\" r...   \n",
       "1894  <a href=\"http://twitter.com/download/iphone\" r...   \n",
       "1176  <a href=\"http://twitter.com/download/iphone\" r...   \n",
       "1774  <a href=\"http://twitter.com/download/iphone\" r...   \n",
       "\n",
       "      in_reply_to_status_id_x  ... retweeted_status_timestamp  \\\n",
       "1946                      NaN  ...                        NaN   \n",
       "861                       NaN  ...                        NaN   \n",
       "1894                      NaN  ...                        NaN   \n",
       "1176                      NaN  ...                        NaN   \n",
       "1774                      NaN  ...                        NaN   \n",
       "\n",
       "                                          expanded_urls rating_numerator  \\\n",
       "1946  https://twitter.com/dog_rates/status/667885044...               10   \n",
       "861   https://twitter.com/dog_rates/status/740365076...               10   \n",
       "1894  https://twitter.com/dog_rates/status/668932921...                9   \n",
       "1176  https://twitter.com/dog_rates/status/698635131...               12   \n",
       "1774  https://twitter.com/dog_rates/status/671122204...                4   \n",
       "\n",
       "     rating_denominator    name doggo floofer pupper puppo  stage  \n",
       "1946                 10     Stu                 None         None  \n",
       "861                  10    None                 None         None  \n",
       "1894                 10  Herald                 None         None  \n",
       "1176                 10    None                 None         None  \n",
       "1774                 10    None                 None         None  \n",
       "\n",
       "[5 rows x 60 columns]"
      ]
     },
     "execution_count": 48,
     "metadata": {},
     "output_type": "execute_result"
    }
   ],
   "source": [
    "df_v1.sample(5)"
   ]
  },
  {
   "cell_type": "markdown",
   "metadata": {},
   "source": [
    "### Issue #3 :  created_at must be a date type"
   ]
  },
  {
   "cell_type": "markdown",
   "metadata": {},
   "source": [
    "#### Define : if we take time in hours it well be more usefull since there are huge number of different values , it will be easier for use"
   ]
  },
  {
   "cell_type": "markdown",
   "metadata": {},
   "source": [
    "#### Code"
   ]
  },
  {
   "cell_type": "code",
   "execution_count": 49,
   "metadata": {},
   "outputs": [],
   "source": [
    "df_v1.created_at = pd.to_datetime(df_v1.created_at)"
   ]
  },
  {
   "cell_type": "markdown",
   "metadata": {},
   "source": [
    "#### Test "
   ]
  },
  {
   "cell_type": "code",
   "execution_count": 53,
   "metadata": {},
   "outputs": [
    {
     "name": "stdout",
     "output_type": "stream",
     "text": [
      "0      2017-08-01 16:23:56+00:00\n",
      "1      2017-08-01 00:17:27+00:00\n",
      "2      2017-07-31 00:18:03+00:00\n",
      "3      2017-07-30 15:58:51+00:00\n",
      "4      2017-07-29 16:00:24+00:00\n",
      "                  ...           \n",
      "2051   2015-11-16 00:24:50+00:00\n",
      "2052   2015-11-16 00:04:52+00:00\n",
      "2053   2015-11-15 23:21:54+00:00\n",
      "2054   2015-11-15 23:05:30+00:00\n",
      "2055   2015-11-15 22:32:08+00:00\n",
      "Name: created_at, Length: 1985, dtype: datetime64[ns, UTC]\n"
     ]
    }
   ],
   "source": [
    "print(df_v1.created_at)"
   ]
  },
  {
   "cell_type": "markdown",
   "metadata": {},
   "source": [
    "### Issue #4 : None values must be null not object type"
   ]
  },
  {
   "cell_type": "markdown",
   "metadata": {},
   "source": [
    "#### Define : if any column has not its right type we will have problems in the analysis , like time in integer , dtae in date type , text range integer"
   ]
  },
  {
   "cell_type": "markdown",
   "metadata": {},
   "source": [
    "#### Code"
   ]
  },
  {
   "cell_type": "code",
   "execution_count": 93,
   "metadata": {},
   "outputs": [],
   "source": [
    "df_v1.iloc[:,:].replace('None', '', inplace=True)"
   ]
  },
  {
   "cell_type": "markdown",
   "metadata": {},
   "source": [
    "#### Test"
   ]
  },
  {
   "cell_type": "code",
   "execution_count": 94,
   "metadata": {},
   "outputs": [
    {
     "name": "stdout",
     "output_type": "stream",
     "text": [
      "<class 'pandas.core.frame.DataFrame'>\n",
      "Int64Index: 1054 entries, 1 to 2035\n",
      "Data columns (total 60 columns):\n",
      " #   Column                         Non-Null Count  Dtype              \n",
      "---  ------                         --------------  -----              \n",
      " 0   created_at                     1054 non-null   datetime64[ns, UTC]\n",
      " 1   id                             1054 non-null   int64              \n",
      " 2   id_str                         1054 non-null   object             \n",
      " 3   full_text                      1054 non-null   object             \n",
      " 4   truncated                      1054 non-null   bool               \n",
      " 5   display_text_range             1054 non-null   int32              \n",
      " 6   entities                       1054 non-null   object             \n",
      " 7   extended_entities              1054 non-null   object             \n",
      " 8   source_x                       1054 non-null   object             \n",
      " 9   in_reply_to_status_id_x        0 non-null      float64            \n",
      " 10  in_reply_to_status_id_str      0 non-null      object             \n",
      " 11  in_reply_to_user_id_x          0 non-null      float64            \n",
      " 12  in_reply_to_user_id_str        0 non-null      object             \n",
      " 13  in_reply_to_screen_name        0 non-null      object             \n",
      " 14  user                           1054 non-null   object             \n",
      " 15  geo                            0 non-null      object             \n",
      " 16  coordinates                    0 non-null      object             \n",
      " 17  place                          1 non-null      object             \n",
      " 18  contributors                   0 non-null      object             \n",
      " 19  is_quote_status                1054 non-null   bool               \n",
      " 20  retweet_count                  1054 non-null   int64              \n",
      " 21  favorite_count                 1054 non-null   int64              \n",
      " 22  favorited                      1054 non-null   bool               \n",
      " 23  retweeted                      1054 non-null   bool               \n",
      " 24  possibly_sensitive             1054 non-null   bool               \n",
      " 25  possibly_sensitive_appealable  1054 non-null   bool               \n",
      " 26  lang                           1054 non-null   object             \n",
      " 27  retweeted_status               0 non-null      float64            \n",
      " 28  quoted_status_id               0 non-null      float64            \n",
      " 29  quoted_status_id_str           0 non-null      float64            \n",
      " 30  quoted_status_permalink        0 non-null      float64            \n",
      " 31  quoted_status                  0 non-null      float64            \n",
      " 32  jpg_url                        1054 non-null   object             \n",
      " 33  img_num                        1054 non-null   int64              \n",
      " 34  type                           1054 non-null   object             \n",
      " 35  p1_conf                        1054 non-null   float64            \n",
      " 36  p1_dog                         1054 non-null   bool               \n",
      " 37  p2                             1054 non-null   object             \n",
      " 38  p2_conf                        1054 non-null   float64            \n",
      " 39  p2_dog                         1054 non-null   bool               \n",
      " 40  p3                             1054 non-null   object             \n",
      " 41  p3_conf                        1054 non-null   float64            \n",
      " 42  p3_dog                         1054 non-null   bool               \n",
      " 43  in_reply_to_status_id_y        0 non-null      float64            \n",
      " 44  in_reply_to_user_id_y          0 non-null      float64            \n",
      " 45  timestamp                      1054 non-null   object             \n",
      " 46  source_y                       1054 non-null   object             \n",
      " 47  text                           1054 non-null   object             \n",
      " 48  retweeted_status_id            0 non-null      float64            \n",
      " 49  retweeted_status_user_id       0 non-null      float64            \n",
      " 50  retweeted_status_timestamp     0 non-null      float64            \n",
      " 51  expanded_urls                  1054 non-null   object             \n",
      " 52  rating_numerator               1054 non-null   int64              \n",
      " 53  rating_denominator             1054 non-null   int64              \n",
      " 54  name                           1054 non-null   object             \n",
      " 55  doggo                          1054 non-null   object             \n",
      " 56  floofer                        1054 non-null   object             \n",
      " 57  pupper                         1054 non-null   object             \n",
      " 58  puppo                          1054 non-null   object             \n",
      " 59  stage                          1054 non-null   object             \n",
      "dtypes: bool(9), datetime64[ns, UTC](1), float64(15), int32(1), int64(6), object(28)\n",
      "memory usage: 433.3+ KB\n"
     ]
    }
   ],
   "source": [
    "df_v1.info()"
   ]
  },
  {
   "cell_type": "code",
   "execution_count": 99,
   "metadata": {},
   "outputs": [
    {
     "data": {
      "text/html": [
       "<div>\n",
       "<style scoped>\n",
       "    .dataframe tbody tr th:only-of-type {\n",
       "        vertical-align: middle;\n",
       "    }\n",
       "\n",
       "    .dataframe tbody tr th {\n",
       "        vertical-align: top;\n",
       "    }\n",
       "\n",
       "    .dataframe thead th {\n",
       "        text-align: right;\n",
       "    }\n",
       "</style>\n",
       "<table border=\"1\" class=\"dataframe\">\n",
       "  <thead>\n",
       "    <tr style=\"text-align: right;\">\n",
       "      <th></th>\n",
       "      <th>created_at</th>\n",
       "      <th>id</th>\n",
       "      <th>id_str</th>\n",
       "      <th>full_text</th>\n",
       "      <th>truncated</th>\n",
       "      <th>display_text_range</th>\n",
       "      <th>entities</th>\n",
       "      <th>extended_entities</th>\n",
       "      <th>source_x</th>\n",
       "      <th>in_reply_to_status_id_x</th>\n",
       "      <th>...</th>\n",
       "      <th>retweeted_status_timestamp</th>\n",
       "      <th>expanded_urls</th>\n",
       "      <th>rating_numerator</th>\n",
       "      <th>rating_denominator</th>\n",
       "      <th>name</th>\n",
       "      <th>doggo</th>\n",
       "      <th>floofer</th>\n",
       "      <th>pupper</th>\n",
       "      <th>puppo</th>\n",
       "      <th>stage</th>\n",
       "    </tr>\n",
       "  </thead>\n",
       "  <tbody>\n",
       "    <tr>\n",
       "      <th>636</th>\n",
       "      <td>2016-09-03 22:02:38+00:00</td>\n",
       "      <td>772193107915964416</td>\n",
       "      <td>772193107915964416</td>\n",
       "      <td>This is Willem. He's a Penn State pupper. Thin...</td>\n",
       "      <td>False</td>\n",
       "      <td>104</td>\n",
       "      <td>{'hashtags': [], 'symbols': [], 'user_mentions...</td>\n",
       "      <td>{'media': [{'id': 772193097816150016, 'id_str'...</td>\n",
       "      <td>&lt;a href=\"http://twitter.com/download/iphone\" r...</td>\n",
       "      <td>NaN</td>\n",
       "      <td>...</td>\n",
       "      <td>NaN</td>\n",
       "      <td>https://twitter.com/dog_rates/status/772193107...</td>\n",
       "      <td>12</td>\n",
       "      <td>10</td>\n",
       "      <td>Willem</td>\n",
       "      <td></td>\n",
       "      <td></td>\n",
       "      <td>pupper</td>\n",
       "      <td></td>\n",
       "      <td>pupper</td>\n",
       "    </tr>\n",
       "    <tr>\n",
       "      <th>1146</th>\n",
       "      <td>2016-02-19 18:24:26+00:00</td>\n",
       "      <td>700747788515020802</td>\n",
       "      <td>700747788515020802</td>\n",
       "      <td>We only rate dogs. Pls stop sending in non-can...</td>\n",
       "      <td>False</td>\n",
       "      <td>139</td>\n",
       "      <td>{'hashtags': [], 'symbols': [], 'user_mentions...</td>\n",
       "      <td>{'media': [{'id': 700747775256821764, 'id_str'...</td>\n",
       "      <td>&lt;a href=\"http://twitter.com/download/iphone\" r...</td>\n",
       "      <td>NaN</td>\n",
       "      <td>...</td>\n",
       "      <td>NaN</td>\n",
       "      <td>https://twitter.com/dog_rates/status/700747788...</td>\n",
       "      <td>11</td>\n",
       "      <td>10</td>\n",
       "      <td>very</td>\n",
       "      <td></td>\n",
       "      <td></td>\n",
       "      <td></td>\n",
       "      <td></td>\n",
       "      <td></td>\n",
       "    </tr>\n",
       "    <tr>\n",
       "      <th>356</th>\n",
       "      <td>2017-01-07 16:59:28+00:00</td>\n",
       "      <td>817777686764523521</td>\n",
       "      <td>817777686764523521</td>\n",
       "      <td>This is Dido. She's playing the lead role in \"...</td>\n",
       "      <td>False</td>\n",
       "      <td>140</td>\n",
       "      <td>{'hashtags': [], 'symbols': [], 'user_mentions...</td>\n",
       "      <td>{'media': [{'id': 817777588030476288, 'id_str'...</td>\n",
       "      <td>&lt;a href=\"http://twitter.com/download/iphone\" r...</td>\n",
       "      <td>NaN</td>\n",
       "      <td>...</td>\n",
       "      <td>NaN</td>\n",
       "      <td>https://twitter.com/dog_rates/status/817777686...</td>\n",
       "      <td>13</td>\n",
       "      <td>10</td>\n",
       "      <td>Dido</td>\n",
       "      <td>doggo</td>\n",
       "      <td></td>\n",
       "      <td>pupper</td>\n",
       "      <td></td>\n",
       "      <td>doggo,pupper</td>\n",
       "    </tr>\n",
       "    <tr>\n",
       "      <th>573</th>\n",
       "      <td>2016-10-02 15:10:30+00:00</td>\n",
       "      <td>782598640137187329</td>\n",
       "      <td>782598640137187329</td>\n",
       "      <td>This is Timmy. He's quite large. According to ...</td>\n",
       "      <td>False</td>\n",
       "      <td>108</td>\n",
       "      <td>{'hashtags': [], 'symbols': [], 'user_mentions...</td>\n",
       "      <td>{'media': [{'id': 782598630494449665, 'id_str'...</td>\n",
       "      <td>&lt;a href=\"http://twitter.com/download/iphone\" r...</td>\n",
       "      <td>NaN</td>\n",
       "      <td>...</td>\n",
       "      <td>NaN</td>\n",
       "      <td>https://twitter.com/dog_rates/status/782598640...</td>\n",
       "      <td>11</td>\n",
       "      <td>10</td>\n",
       "      <td>Timmy</td>\n",
       "      <td></td>\n",
       "      <td></td>\n",
       "      <td></td>\n",
       "      <td></td>\n",
       "      <td></td>\n",
       "    </tr>\n",
       "    <tr>\n",
       "      <th>708</th>\n",
       "      <td>2016-07-31 20:21:02+00:00</td>\n",
       "      <td>759846353224826880</td>\n",
       "      <td>759846353224826880</td>\n",
       "      <td>This is Kirby. He's a Beneblip Cumberpat. Pret...</td>\n",
       "      <td>False</td>\n",
       "      <td>102</td>\n",
       "      <td>{'hashtags': [], 'symbols': [], 'user_mentions...</td>\n",
       "      <td>{'media': [{'id': 759846345045835776, 'id_str'...</td>\n",
       "      <td>&lt;a href=\"http://twitter.com/download/iphone\" r...</td>\n",
       "      <td>NaN</td>\n",
       "      <td>...</td>\n",
       "      <td>NaN</td>\n",
       "      <td>https://twitter.com/dog_rates/status/759846353...</td>\n",
       "      <td>11</td>\n",
       "      <td>10</td>\n",
       "      <td>Kirby</td>\n",
       "      <td></td>\n",
       "      <td></td>\n",
       "      <td></td>\n",
       "      <td></td>\n",
       "      <td></td>\n",
       "    </tr>\n",
       "  </tbody>\n",
       "</table>\n",
       "<p>5 rows × 60 columns</p>\n",
       "</div>"
      ],
      "text/plain": [
       "                    created_at                  id              id_str  \\\n",
       "636  2016-09-03 22:02:38+00:00  772193107915964416  772193107915964416   \n",
       "1146 2016-02-19 18:24:26+00:00  700747788515020802  700747788515020802   \n",
       "356  2017-01-07 16:59:28+00:00  817777686764523521  817777686764523521   \n",
       "573  2016-10-02 15:10:30+00:00  782598640137187329  782598640137187329   \n",
       "708  2016-07-31 20:21:02+00:00  759846353224826880  759846353224826880   \n",
       "\n",
       "                                              full_text  truncated  \\\n",
       "636   This is Willem. He's a Penn State pupper. Thin...      False   \n",
       "1146  We only rate dogs. Pls stop sending in non-can...      False   \n",
       "356   This is Dido. She's playing the lead role in \"...      False   \n",
       "573   This is Timmy. He's quite large. According to ...      False   \n",
       "708   This is Kirby. He's a Beneblip Cumberpat. Pret...      False   \n",
       "\n",
       "      display_text_range                                           entities  \\\n",
       "636                  104  {'hashtags': [], 'symbols': [], 'user_mentions...   \n",
       "1146                 139  {'hashtags': [], 'symbols': [], 'user_mentions...   \n",
       "356                  140  {'hashtags': [], 'symbols': [], 'user_mentions...   \n",
       "573                  108  {'hashtags': [], 'symbols': [], 'user_mentions...   \n",
       "708                  102  {'hashtags': [], 'symbols': [], 'user_mentions...   \n",
       "\n",
       "                                      extended_entities  \\\n",
       "636   {'media': [{'id': 772193097816150016, 'id_str'...   \n",
       "1146  {'media': [{'id': 700747775256821764, 'id_str'...   \n",
       "356   {'media': [{'id': 817777588030476288, 'id_str'...   \n",
       "573   {'media': [{'id': 782598630494449665, 'id_str'...   \n",
       "708   {'media': [{'id': 759846345045835776, 'id_str'...   \n",
       "\n",
       "                                               source_x  \\\n",
       "636   <a href=\"http://twitter.com/download/iphone\" r...   \n",
       "1146  <a href=\"http://twitter.com/download/iphone\" r...   \n",
       "356   <a href=\"http://twitter.com/download/iphone\" r...   \n",
       "573   <a href=\"http://twitter.com/download/iphone\" r...   \n",
       "708   <a href=\"http://twitter.com/download/iphone\" r...   \n",
       "\n",
       "      in_reply_to_status_id_x  ... retweeted_status_timestamp  \\\n",
       "636                       NaN  ...                        NaN   \n",
       "1146                      NaN  ...                        NaN   \n",
       "356                       NaN  ...                        NaN   \n",
       "573                       NaN  ...                        NaN   \n",
       "708                       NaN  ...                        NaN   \n",
       "\n",
       "                                          expanded_urls rating_numerator  \\\n",
       "636   https://twitter.com/dog_rates/status/772193107...               12   \n",
       "1146  https://twitter.com/dog_rates/status/700747788...               11   \n",
       "356   https://twitter.com/dog_rates/status/817777686...               13   \n",
       "573   https://twitter.com/dog_rates/status/782598640...               11   \n",
       "708   https://twitter.com/dog_rates/status/759846353...               11   \n",
       "\n",
       "     rating_denominator    name  doggo floofer  pupper puppo         stage  \n",
       "636                  10  Willem                 pupper              pupper  \n",
       "1146                 10    very                                             \n",
       "356                  10    Dido  doggo          pupper        doggo,pupper  \n",
       "573                  10   Timmy                                             \n",
       "708                  10   Kirby                                             \n",
       "\n",
       "[5 rows x 60 columns]"
      ]
     },
     "execution_count": 99,
     "metadata": {},
     "output_type": "execute_result"
    }
   ],
   "source": [
    "df_v1.sample(5)"
   ]
  },
  {
   "cell_type": "markdown",
   "metadata": {},
   "source": [
    "### Issue #5 : there are Missing data , we have to clean the data seet from those missing data"
   ]
  },
  {
   "cell_type": "markdown",
   "metadata": {},
   "source": [
    "#### Define : we need to remove missing data from our dataset "
   ]
  },
  {
   "cell_type": "markdown",
   "metadata": {},
   "source": [
    "#### Code"
   ]
  },
  {
   "cell_type": "code",
   "execution_count": 48,
   "metadata": {},
   "outputs": [],
   "source": [
    "#in our case , i only have the column retweeted status that contains null data so we should drop it\n",
    "df_v1.drop(\"retweeted_status\" , axis = 1 ,inplace = True)"
   ]
  },
  {
   "cell_type": "markdown",
   "metadata": {},
   "source": [
    "#### Test"
   ]
  },
  {
   "cell_type": "code",
   "execution_count": 49,
   "metadata": {},
   "outputs": [
    {
     "name": "stdout",
     "output_type": "stream",
     "text": [
      "<class 'pandas.core.frame.DataFrame'>\n",
      "Int64Index: 1985 entries, 0 to 2055\n",
      "Data columns (total 10 columns):\n",
      " #   Column              Non-Null Count  Dtype         \n",
      "---  ------              --------------  -----         \n",
      " 0   id                  1985 non-null   int64         \n",
      " 1   rating_numerator    1985 non-null   int64         \n",
      " 2   name                1985 non-null   object        \n",
      " 3   retweet_count       1985 non-null   int64         \n",
      " 4   favorite_count      1985 non-null   int64         \n",
      " 5   type                1985 non-null   object        \n",
      " 6   p1_dog              1985 non-null   bool          \n",
      " 7   display_text_range  1985 non-null   int32         \n",
      " 8   created_date        1985 non-null   datetime64[ns]\n",
      " 9   created_time        1985 non-null   int32         \n",
      "dtypes: bool(1), datetime64[ns](1), int32(2), int64(4), object(2)\n",
      "memory usage: 141.5+ KB\n"
     ]
    }
   ],
   "source": [
    "df_v1.info()"
   ]
  },
  {
   "cell_type": "markdown",
   "metadata": {},
   "source": [
    "### Issue #6: Check for duplicated ids"
   ]
  },
  {
   "cell_type": "markdown",
   "metadata": {},
   "source": [
    "#### Define : We must check if there is any duplicated ids or rows because it will affect our investigation"
   ]
  },
  {
   "cell_type": "markdown",
   "metadata": {},
   "source": [
    "\n",
    "\n",
    "#### Code"
   ]
  },
  {
   "cell_type": "code",
   "execution_count": 100,
   "metadata": {},
   "outputs": [
    {
     "data": {
      "text/plain": [
       "False"
      ]
     },
     "execution_count": 100,
     "metadata": {},
     "output_type": "execute_result"
    }
   ],
   "source": [
    "#Checking\n",
    "df_v1.id.duplicated().all()"
   ]
  },
  {
   "cell_type": "markdown",
   "metadata": {},
   "source": [
    "\n",
    "#### Test"
   ]
  },
  {
   "cell_type": "code",
   "execution_count": 101,
   "metadata": {},
   "outputs": [],
   "source": [
    "#We have no duplicated ids"
   ]
  },
  {
   "cell_type": "markdown",
   "metadata": {},
   "source": [
    "### Issue #7 :Name column has some non valide names"
   ]
  },
  {
   "cell_type": "markdown",
   "metadata": {},
   "source": [
    "#### Define : dogs names should be valid names , there are some None object values , it should be null values "
   ]
  },
  {
   "cell_type": "markdown",
   "metadata": {},
   "source": [
    "#### Code"
   ]
  },
  {
   "cell_type": "code",
   "execution_count": 86,
   "metadata": {},
   "outputs": [
    {
     "data": {
      "text/plain": [
       "934"
      ]
     },
     "execution_count": 86,
     "metadata": {},
     "output_type": "execute_result"
    }
   ],
   "source": [
    "len(list(df_v1.name.unique()))"
   ]
  },
  {
   "cell_type": "code",
   "execution_count": 87,
   "metadata": {},
   "outputs": [],
   "source": [
    "df_v1 = df_v1.query(\"name not in ['None' ,'a','such','not','just','this','the','by','all']\")"
   ]
  },
  {
   "cell_type": "code",
   "execution_count": 88,
   "metadata": {},
   "outputs": [
    {
     "data": {
      "text/plain": [
       "925"
      ]
     },
     "execution_count": 88,
     "metadata": {},
     "output_type": "execute_result"
    }
   ],
   "source": [
    "len(list(df_v1.name.unique()))"
   ]
  },
  {
   "cell_type": "markdown",
   "metadata": {},
   "source": [
    "#### Test"
   ]
  },
  {
   "cell_type": "code",
   "execution_count": 89,
   "metadata": {},
   "outputs": [
    {
     "data": {
      "text/plain": [
       "False"
      ]
     },
     "execution_count": 89,
     "metadata": {},
     "output_type": "execute_result"
    }
   ],
   "source": [
    "'None' in df_v1.name"
   ]
  },
  {
   "cell_type": "markdown",
   "metadata": {},
   "source": [
    "### Issue #8 :  entities and extended_entities must be dicts"
   ]
  },
  {
   "cell_type": "markdown",
   "metadata": {},
   "source": [
    "#### Define : in the description , most ratings are higher than 10, but the vast majority under 20 , there are some very big numbers that can affect our analysis"
   ]
  },
  {
   "cell_type": "markdown",
   "metadata": {},
   "source": [
    "#### Code"
   ]
  },
  {
   "cell_type": "code",
   "execution_count": 62,
   "metadata": {},
   "outputs": [],
   "source": [
    "df_v1.replace({\"entities\": dict , \"extended_entities\" : dict} , inplace = True)\n"
   ]
  },
  {
   "cell_type": "code",
   "execution_count": 63,
   "metadata": {},
   "outputs": [
    {
     "name": "stdout",
     "output_type": "stream",
     "text": [
      "<class 'pandas.core.frame.DataFrame'>\n",
      "Int64Index: 1985 entries, 0 to 2055\n",
      "Data columns (total 60 columns):\n",
      " #   Column                         Non-Null Count  Dtype              \n",
      "---  ------                         --------------  -----              \n",
      " 0   created_at                     1985 non-null   datetime64[ns, UTC]\n",
      " 1   id                             1985 non-null   int64              \n",
      " 2   id_str                         1985 non-null   object             \n",
      " 3   full_text                      1985 non-null   object             \n",
      " 4   truncated                      1985 non-null   bool               \n",
      " 5   display_text_range             1985 non-null   int32              \n",
      " 6   entities                       1985 non-null   object             \n",
      " 7   extended_entities              1985 non-null   object             \n",
      " 8   source_x                       1985 non-null   object             \n",
      " 9   in_reply_to_status_id_x        23 non-null     float64            \n",
      " 10  in_reply_to_status_id_str      23 non-null     object             \n",
      " 11  in_reply_to_user_id_x          23 non-null     float64            \n",
      " 12  in_reply_to_user_id_str        23 non-null     object             \n",
      " 13  in_reply_to_screen_name        23 non-null     object             \n",
      " 14  user                           1985 non-null   object             \n",
      " 15  geo                            0 non-null      object             \n",
      " 16  coordinates                    0 non-null      object             \n",
      " 17  place                          1 non-null      object             \n",
      " 18  contributors                   0 non-null      object             \n",
      " 19  is_quote_status                1985 non-null   bool               \n",
      " 20  retweet_count                  1985 non-null   int64              \n",
      " 21  favorite_count                 1985 non-null   int64              \n",
      " 22  favorited                      1985 non-null   bool               \n",
      " 23  retweeted                      1985 non-null   bool               \n",
      " 24  possibly_sensitive             1985 non-null   bool               \n",
      " 25  possibly_sensitive_appealable  1985 non-null   bool               \n",
      " 26  lang                           1985 non-null   object             \n",
      " 27  retweeted_status               0 non-null      float64            \n",
      " 28  quoted_status_id               0 non-null      float64            \n",
      " 29  quoted_status_id_str           0 non-null      float64            \n",
      " 30  quoted_status_permalink        0 non-null      float64            \n",
      " 31  quoted_status                  0 non-null      float64            \n",
      " 32  jpg_url                        1985 non-null   object             \n",
      " 33  img_num                        1985 non-null   int64              \n",
      " 34  type                           1985 non-null   object             \n",
      " 35  p1_conf                        1985 non-null   float64            \n",
      " 36  p1_dog                         1985 non-null   bool               \n",
      " 37  p2                             1985 non-null   object             \n",
      " 38  p2_conf                        1985 non-null   float64            \n",
      " 39  p2_dog                         1985 non-null   bool               \n",
      " 40  p3                             1985 non-null   object             \n",
      " 41  p3_conf                        1985 non-null   float64            \n",
      " 42  p3_dog                         1985 non-null   bool               \n",
      " 43  in_reply_to_status_id_y        23 non-null     float64            \n",
      " 44  in_reply_to_user_id_y          23 non-null     float64            \n",
      " 45  timestamp                      1985 non-null   object             \n",
      " 46  source_y                       1985 non-null   object             \n",
      " 47  text                           1985 non-null   object             \n",
      " 48  retweeted_status_id            0 non-null      float64            \n",
      " 49  retweeted_status_user_id       0 non-null      float64            \n",
      " 50  retweeted_status_timestamp     0 non-null      float64            \n",
      " 51  expanded_urls                  1985 non-null   object             \n",
      " 52  rating_numerator               1985 non-null   int64              \n",
      " 53  rating_denominator             1985 non-null   int64              \n",
      " 54  name                           1985 non-null   object             \n",
      " 55  doggo                          1985 non-null   object             \n",
      " 56  floofer                        1985 non-null   object             \n",
      " 57  pupper                         1985 non-null   object             \n",
      " 58  puppo                          1985 non-null   object             \n",
      " 59  stage                          1985 non-null   object             \n",
      "dtypes: bool(9), datetime64[ns, UTC](1), float64(15), int32(1), int64(6), object(28)\n",
      "memory usage: 880.6+ KB\n"
     ]
    }
   ],
   "source": [
    "df_v1.info()"
   ]
  },
  {
   "cell_type": "markdown",
   "metadata": {},
   "source": [
    "#### Test"
   ]
  },
  {
   "cell_type": "code",
   "execution_count": 67,
   "metadata": {},
   "outputs": [
    {
     "data": {
      "text/plain": [
       "[{'text': 'BarkWeek', 'indices': [129, 138]}]"
      ]
     },
     "execution_count": 67,
     "metadata": {},
     "output_type": "execute_result"
    }
   ],
   "source": [
    "df_v1.entities[5]['hashtags']"
   ]
  },
  {
   "cell_type": "markdown",
   "metadata": {},
   "source": [
    "### Issue #9 : Leave only dogs retweets"
   ]
  },
  {
   "cell_type": "markdown",
   "metadata": {},
   "source": [
    "#### Define : We have some picture that does not represent dogs , so we have to deleve any picture that can describe something else other than dogs"
   ]
  },
  {
   "cell_type": "markdown",
   "metadata": {},
   "source": [
    "#### Code"
   ]
  },
  {
   "cell_type": "code",
   "execution_count": 90,
   "metadata": {},
   "outputs": [],
   "source": [
    "#We can know wether it is a dog or not from the column p1_dog\n",
    "df_v1 = df_v1.query(\"p1_dog == True\")"
   ]
  },
  {
   "cell_type": "markdown",
   "metadata": {},
   "source": [
    "#### Test"
   ]
  },
  {
   "cell_type": "code",
   "execution_count": 91,
   "metadata": {},
   "outputs": [
    {
     "data": {
      "text/plain": [
       "True"
      ]
     },
     "execution_count": 91,
     "metadata": {},
     "output_type": "execute_result"
    }
   ],
   "source": [
    "df_v1.p1_dog.all() == True"
   ]
  },
  {
   "cell_type": "code",
   "execution_count": 92,
   "metadata": {},
   "outputs": [
    {
     "data": {
      "text/html": [
       "<div>\n",
       "<style scoped>\n",
       "    .dataframe tbody tr th:only-of-type {\n",
       "        vertical-align: middle;\n",
       "    }\n",
       "\n",
       "    .dataframe tbody tr th {\n",
       "        vertical-align: top;\n",
       "    }\n",
       "\n",
       "    .dataframe thead th {\n",
       "        text-align: right;\n",
       "    }\n",
       "</style>\n",
       "<table border=\"1\" class=\"dataframe\">\n",
       "  <thead>\n",
       "    <tr style=\"text-align: right;\">\n",
       "      <th></th>\n",
       "      <th>created_at</th>\n",
       "      <th>id</th>\n",
       "      <th>id_str</th>\n",
       "      <th>full_text</th>\n",
       "      <th>truncated</th>\n",
       "      <th>display_text_range</th>\n",
       "      <th>entities</th>\n",
       "      <th>extended_entities</th>\n",
       "      <th>source_x</th>\n",
       "      <th>in_reply_to_status_id_x</th>\n",
       "      <th>...</th>\n",
       "      <th>retweeted_status_timestamp</th>\n",
       "      <th>expanded_urls</th>\n",
       "      <th>rating_numerator</th>\n",
       "      <th>rating_denominator</th>\n",
       "      <th>name</th>\n",
       "      <th>doggo</th>\n",
       "      <th>floofer</th>\n",
       "      <th>pupper</th>\n",
       "      <th>puppo</th>\n",
       "      <th>stage</th>\n",
       "    </tr>\n",
       "  </thead>\n",
       "  <tbody>\n",
       "    <tr>\n",
       "      <th>163</th>\n",
       "      <td>2017-04-13 16:05:56+00:00</td>\n",
       "      <td>852553447878664193</td>\n",
       "      <td>852553447878664193</td>\n",
       "      <td>This is Jarod. He likes having his belly brush...</td>\n",
       "      <td>False</td>\n",
       "      <td>124</td>\n",
       "      <td>{'hashtags': [], 'symbols': [], 'user_mentions...</td>\n",
       "      <td>{'media': [{'id': 852553437929721865, 'id_str'...</td>\n",
       "      <td>&lt;a href=\"http://twitter.com/download/iphone\" r...</td>\n",
       "      <td>NaN</td>\n",
       "      <td>...</td>\n",
       "      <td>NaN</td>\n",
       "      <td>https://twitter.com/dog_rates/status/852553447...</td>\n",
       "      <td>13</td>\n",
       "      <td>10</td>\n",
       "      <td>Jarod</td>\n",
       "      <td></td>\n",
       "      <td></td>\n",
       "      <td>None</td>\n",
       "      <td></td>\n",
       "      <td>None</td>\n",
       "    </tr>\n",
       "    <tr>\n",
       "      <th>185</th>\n",
       "      <td>2017-03-30 00:56:03+00:00</td>\n",
       "      <td>847251039262605312</td>\n",
       "      <td>847251039262605312</td>\n",
       "      <td>This is Furzey. He's doing an elevated sandy z...</td>\n",
       "      <td>False</td>\n",
       "      <td>100</td>\n",
       "      <td>{'hashtags': [], 'symbols': [], 'user_mentions...</td>\n",
       "      <td>{'media': [{'id': 847251028009336833, 'id_str'...</td>\n",
       "      <td>&lt;a href=\"http://twitter.com/download/iphone\" r...</td>\n",
       "      <td>NaN</td>\n",
       "      <td>...</td>\n",
       "      <td>NaN</td>\n",
       "      <td>https://twitter.com/dog_rates/status/847251039...</td>\n",
       "      <td>12</td>\n",
       "      <td>10</td>\n",
       "      <td>Furzey</td>\n",
       "      <td></td>\n",
       "      <td></td>\n",
       "      <td>None</td>\n",
       "      <td></td>\n",
       "      <td>None</td>\n",
       "    </tr>\n",
       "    <tr>\n",
       "      <th>1558</th>\n",
       "      <td>2015-12-12 22:04:39+00:00</td>\n",
       "      <td>675798442703122432</td>\n",
       "      <td>675798442703122432</td>\n",
       "      <td>This is Bernie. He just touched a boob for the...</td>\n",
       "      <td>False</td>\n",
       "      <td>88</td>\n",
       "      <td>{'hashtags': [], 'symbols': [], 'user_mentions...</td>\n",
       "      <td>{'media': [{'id': 675798434532581376, 'id_str'...</td>\n",
       "      <td>&lt;a href=\"http://twitter.com/download/iphone\" r...</td>\n",
       "      <td>NaN</td>\n",
       "      <td>...</td>\n",
       "      <td>NaN</td>\n",
       "      <td>https://twitter.com/dog_rates/status/675798442...</td>\n",
       "      <td>10</td>\n",
       "      <td>10</td>\n",
       "      <td>Bernie</td>\n",
       "      <td></td>\n",
       "      <td></td>\n",
       "      <td>None</td>\n",
       "      <td></td>\n",
       "      <td>None</td>\n",
       "    </tr>\n",
       "    <tr>\n",
       "      <th>1725</th>\n",
       "      <td>2015-12-02 16:49:14+00:00</td>\n",
       "      <td>672095186491711488</td>\n",
       "      <td>672095186491711488</td>\n",
       "      <td>This is Tuco. That's the toast that killed his...</td>\n",
       "      <td>False</td>\n",
       "      <td>83</td>\n",
       "      <td>{'hashtags': [], 'symbols': [], 'user_mentions...</td>\n",
       "      <td>{'media': [{'id': 672095178996523008, 'id_str'...</td>\n",
       "      <td>&lt;a href=\"http://twitter.com/download/iphone\" r...</td>\n",
       "      <td>NaN</td>\n",
       "      <td>...</td>\n",
       "      <td>NaN</td>\n",
       "      <td>https://twitter.com/dog_rates/status/672095186...</td>\n",
       "      <td>9</td>\n",
       "      <td>10</td>\n",
       "      <td>Tuco</td>\n",
       "      <td></td>\n",
       "      <td></td>\n",
       "      <td>None</td>\n",
       "      <td></td>\n",
       "      <td>None</td>\n",
       "    </tr>\n",
       "  </tbody>\n",
       "</table>\n",
       "<p>4 rows × 60 columns</p>\n",
       "</div>"
      ],
      "text/plain": [
       "                    created_at                  id              id_str  \\\n",
       "163  2017-04-13 16:05:56+00:00  852553447878664193  852553447878664193   \n",
       "185  2017-03-30 00:56:03+00:00  847251039262605312  847251039262605312   \n",
       "1558 2015-12-12 22:04:39+00:00  675798442703122432  675798442703122432   \n",
       "1725 2015-12-02 16:49:14+00:00  672095186491711488  672095186491711488   \n",
       "\n",
       "                                              full_text  truncated  \\\n",
       "163   This is Jarod. He likes having his belly brush...      False   \n",
       "185   This is Furzey. He's doing an elevated sandy z...      False   \n",
       "1558  This is Bernie. He just touched a boob for the...      False   \n",
       "1725  This is Tuco. That's the toast that killed his...      False   \n",
       "\n",
       "      display_text_range                                           entities  \\\n",
       "163                  124  {'hashtags': [], 'symbols': [], 'user_mentions...   \n",
       "185                  100  {'hashtags': [], 'symbols': [], 'user_mentions...   \n",
       "1558                  88  {'hashtags': [], 'symbols': [], 'user_mentions...   \n",
       "1725                  83  {'hashtags': [], 'symbols': [], 'user_mentions...   \n",
       "\n",
       "                                      extended_entities  \\\n",
       "163   {'media': [{'id': 852553437929721865, 'id_str'...   \n",
       "185   {'media': [{'id': 847251028009336833, 'id_str'...   \n",
       "1558  {'media': [{'id': 675798434532581376, 'id_str'...   \n",
       "1725  {'media': [{'id': 672095178996523008, 'id_str'...   \n",
       "\n",
       "                                               source_x  \\\n",
       "163   <a href=\"http://twitter.com/download/iphone\" r...   \n",
       "185   <a href=\"http://twitter.com/download/iphone\" r...   \n",
       "1558  <a href=\"http://twitter.com/download/iphone\" r...   \n",
       "1725  <a href=\"http://twitter.com/download/iphone\" r...   \n",
       "\n",
       "      in_reply_to_status_id_x  ... retweeted_status_timestamp  \\\n",
       "163                       NaN  ...                        NaN   \n",
       "185                       NaN  ...                        NaN   \n",
       "1558                      NaN  ...                        NaN   \n",
       "1725                      NaN  ...                        NaN   \n",
       "\n",
       "                                          expanded_urls rating_numerator  \\\n",
       "163   https://twitter.com/dog_rates/status/852553447...               13   \n",
       "185   https://twitter.com/dog_rates/status/847251039...               12   \n",
       "1558  https://twitter.com/dog_rates/status/675798442...               10   \n",
       "1725  https://twitter.com/dog_rates/status/672095186...                9   \n",
       "\n",
       "     rating_denominator    name doggo floofer pupper puppo  stage  \n",
       "163                  10   Jarod                 None         None  \n",
       "185                  10  Furzey                 None         None  \n",
       "1558                 10  Bernie                 None         None  \n",
       "1725                 10    Tuco                 None         None  \n",
       "\n",
       "[4 rows x 60 columns]"
      ]
     },
     "execution_count": 92,
     "metadata": {},
     "output_type": "execute_result"
    }
   ],
   "source": [
    "df_v1.sample(4)"
   ]
  },
  {
   "cell_type": "markdown",
   "metadata": {},
   "source": [
    "## Storing Data\n",
    "Save gathered, assessed, and cleaned master dataset to a CSV file named \"twitter_archive_master.csv\"."
   ]
  },
  {
   "cell_type": "code",
   "execution_count": 59,
   "metadata": {},
   "outputs": [],
   "source": [
    "df_v1.to_csv(\"twitter_archive_master.csv\" , index = False)"
   ]
  },
  {
   "cell_type": "markdown",
   "metadata": {},
   "source": [
    "## Analyzing and Visualizing Data\n",
    "In this section, analyze and visualize your wrangled data. You must produce at least **three (3) insights and one (1) visualization.**"
   ]
  },
  {
   "cell_type": "code",
   "execution_count": 60,
   "metadata": {},
   "outputs": [
    {
     "data": {
      "text/html": [
       "<div>\n",
       "<style scoped>\n",
       "    .dataframe tbody tr th:only-of-type {\n",
       "        vertical-align: middle;\n",
       "    }\n",
       "\n",
       "    .dataframe tbody tr th {\n",
       "        vertical-align: top;\n",
       "    }\n",
       "\n",
       "    .dataframe thead th {\n",
       "        text-align: right;\n",
       "    }\n",
       "</style>\n",
       "<table border=\"1\" class=\"dataframe\">\n",
       "  <thead>\n",
       "    <tr style=\"text-align: right;\">\n",
       "      <th></th>\n",
       "      <th>rating_numerator</th>\n",
       "      <th>name</th>\n",
       "      <th>retweet_count</th>\n",
       "      <th>favorite_count</th>\n",
       "      <th>type</th>\n",
       "      <th>p1_dog</th>\n",
       "      <th>display_text_range</th>\n",
       "      <th>created_date</th>\n",
       "      <th>created_time</th>\n",
       "    </tr>\n",
       "  </thead>\n",
       "  <tbody>\n",
       "    <tr>\n",
       "      <th>1</th>\n",
       "      <td>13</td>\n",
       "      <td>Tilly</td>\n",
       "      <td>5280</td>\n",
       "      <td>29230</td>\n",
       "      <td>Chihuahua</td>\n",
       "      <td>True</td>\n",
       "      <td>138</td>\n",
       "      <td>2017-08-01</td>\n",
       "      <td>0</td>\n",
       "    </tr>\n",
       "    <tr>\n",
       "      <th>2</th>\n",
       "      <td>12</td>\n",
       "      <td>Archie</td>\n",
       "      <td>3466</td>\n",
       "      <td>21974</td>\n",
       "      <td>Chihuahua</td>\n",
       "      <td>True</td>\n",
       "      <td>121</td>\n",
       "      <td>2017-07-31</td>\n",
       "      <td>0</td>\n",
       "    </tr>\n",
       "    <tr>\n",
       "      <th>4</th>\n",
       "      <td>12</td>\n",
       "      <td>Franklin</td>\n",
       "      <td>7723</td>\n",
       "      <td>35168</td>\n",
       "      <td>basset</td>\n",
       "      <td>True</td>\n",
       "      <td>138</td>\n",
       "      <td>2017-07-29</td>\n",
       "      <td>16</td>\n",
       "    </tr>\n",
       "    <tr>\n",
       "      <th>6</th>\n",
       "      <td>13</td>\n",
       "      <td>Jax</td>\n",
       "      <td>1649</td>\n",
       "      <td>10323</td>\n",
       "      <td>Appenzeller</td>\n",
       "      <td>True</td>\n",
       "      <td>140</td>\n",
       "      <td>2017-07-28</td>\n",
       "      <td>16</td>\n",
       "    </tr>\n",
       "    <tr>\n",
       "      <th>8</th>\n",
       "      <td>13</td>\n",
       "      <td>Zoey</td>\n",
       "      <td>3605</td>\n",
       "      <td>24433</td>\n",
       "      <td>Irish_terrier</td>\n",
       "      <td>True</td>\n",
       "      <td>122</td>\n",
       "      <td>2017-07-27</td>\n",
       "      <td>16</td>\n",
       "    </tr>\n",
       "  </tbody>\n",
       "</table>\n",
       "</div>"
      ],
      "text/plain": [
       "   rating_numerator      name  retweet_count  favorite_count           type  \\\n",
       "1                13     Tilly           5280           29230      Chihuahua   \n",
       "2                12    Archie           3466           21974      Chihuahua   \n",
       "4                12  Franklin           7723           35168         basset   \n",
       "6                13       Jax           1649           10323    Appenzeller   \n",
       "8                13      Zoey           3605           24433  Irish_terrier   \n",
       "\n",
       "   p1_dog  display_text_range created_date  created_time  \n",
       "1    True                 138   2017-08-01             0  \n",
       "2    True                 121   2017-07-31             0  \n",
       "4    True                 138   2017-07-29            16  \n",
       "6    True                 140   2017-07-28            16  \n",
       "8    True                 122   2017-07-27            16  "
      ]
     },
     "execution_count": 60,
     "metadata": {},
     "output_type": "execute_result"
    }
   ],
   "source": [
    "df_v1.drop(columns = ['id'] , axis = 1 , inplace = True)\n",
    "df_v1.head()\n"
   ]
  },
  {
   "cell_type": "markdown",
   "metadata": {},
   "source": [
    "## Insights:\n",
    "1.Does the type of the dog influence the retweets ?\n",
    "\n",
    "2.Does the the text have an effect on the likes ?\n",
    "\n",
    "3.wich top 3 loved dogs ?"
   ]
  },
  {
   "cell_type": "markdown",
   "metadata": {},
   "source": [
    "###    Insight1 : Does the type of the dog influence the retweets?"
   ]
  },
  {
   "cell_type": "code",
   "execution_count": 61,
   "metadata": {},
   "outputs": [],
   "source": [
    "dog_type = df_v1.groupby('type').mean()"
   ]
  },
  {
   "cell_type": "code",
   "execution_count": 62,
   "metadata": {},
   "outputs": [
    {
     "data": {
      "text/html": [
       "<div>\n",
       "<style scoped>\n",
       "    .dataframe tbody tr th:only-of-type {\n",
       "        vertical-align: middle;\n",
       "    }\n",
       "\n",
       "    .dataframe tbody tr th {\n",
       "        vertical-align: top;\n",
       "    }\n",
       "\n",
       "    .dataframe thead th {\n",
       "        text-align: right;\n",
       "    }\n",
       "</style>\n",
       "<table border=\"1\" class=\"dataframe\">\n",
       "  <thead>\n",
       "    <tr style=\"text-align: right;\">\n",
       "      <th></th>\n",
       "      <th>rating_numerator</th>\n",
       "      <th>retweet_count</th>\n",
       "      <th>favorite_count</th>\n",
       "      <th>p1_dog</th>\n",
       "      <th>display_text_range</th>\n",
       "      <th>created_time</th>\n",
       "    </tr>\n",
       "    <tr>\n",
       "      <th>type</th>\n",
       "      <th></th>\n",
       "      <th></th>\n",
       "      <th></th>\n",
       "      <th></th>\n",
       "      <th></th>\n",
       "      <th></th>\n",
       "    </tr>\n",
       "  </thead>\n",
       "  <tbody>\n",
       "    <tr>\n",
       "      <th>Afghan_hound</th>\n",
       "      <td>9.666667</td>\n",
       "      <td>4770.333333</td>\n",
       "      <td>14659.666667</td>\n",
       "      <td>1.0</td>\n",
       "      <td>103.333333</td>\n",
       "      <td>11.000000</td>\n",
       "    </tr>\n",
       "    <tr>\n",
       "      <th>Airedale</th>\n",
       "      <td>10.222222</td>\n",
       "      <td>1257.111111</td>\n",
       "      <td>5145.888889</td>\n",
       "      <td>1.0</td>\n",
       "      <td>107.666667</td>\n",
       "      <td>5.666667</td>\n",
       "    </tr>\n",
       "    <tr>\n",
       "      <th>American_Staffordshire_terrier</th>\n",
       "      <td>10.666667</td>\n",
       "      <td>1293.777778</td>\n",
       "      <td>5068.111111</td>\n",
       "      <td>1.0</td>\n",
       "      <td>111.111111</td>\n",
       "      <td>11.777778</td>\n",
       "    </tr>\n",
       "    <tr>\n",
       "      <th>Appenzeller</th>\n",
       "      <td>13.000000</td>\n",
       "      <td>1649.000000</td>\n",
       "      <td>10323.000000</td>\n",
       "      <td>1.0</td>\n",
       "      <td>140.000000</td>\n",
       "      <td>16.000000</td>\n",
       "    </tr>\n",
       "  </tbody>\n",
       "</table>\n",
       "</div>"
      ],
      "text/plain": [
       "                                rating_numerator  retweet_count  \\\n",
       "type                                                              \n",
       "Afghan_hound                            9.666667    4770.333333   \n",
       "Airedale                               10.222222    1257.111111   \n",
       "American_Staffordshire_terrier         10.666667    1293.777778   \n",
       "Appenzeller                            13.000000    1649.000000   \n",
       "\n",
       "                                favorite_count  p1_dog  display_text_range  \\\n",
       "type                                                                         \n",
       "Afghan_hound                      14659.666667     1.0          103.333333   \n",
       "Airedale                           5145.888889     1.0          107.666667   \n",
       "American_Staffordshire_terrier     5068.111111     1.0          111.111111   \n",
       "Appenzeller                       10323.000000     1.0          140.000000   \n",
       "\n",
       "                                created_time  \n",
       "type                                          \n",
       "Afghan_hound                       11.000000  \n",
       "Airedale                            5.666667  \n",
       "American_Staffordshire_terrier     11.777778  \n",
       "Appenzeller                        16.000000  "
      ]
     },
     "execution_count": 62,
     "metadata": {},
     "output_type": "execute_result"
    }
   ],
   "source": [
    "dog_type.head(4)"
   ]
  },
  {
   "cell_type": "code",
   "execution_count": 63,
   "metadata": {},
   "outputs": [
    {
     "data": {
      "text/html": [
       "<div>\n",
       "<style scoped>\n",
       "    .dataframe tbody tr th:only-of-type {\n",
       "        vertical-align: middle;\n",
       "    }\n",
       "\n",
       "    .dataframe tbody tr th {\n",
       "        vertical-align: top;\n",
       "    }\n",
       "\n",
       "    .dataframe thead th {\n",
       "        text-align: right;\n",
       "    }\n",
       "</style>\n",
       "<table border=\"1\" class=\"dataframe\">\n",
       "  <thead>\n",
       "    <tr style=\"text-align: right;\">\n",
       "      <th></th>\n",
       "      <th>rating_numerator</th>\n",
       "      <th>retweet_count</th>\n",
       "      <th>favorite_count</th>\n",
       "      <th>p1_dog</th>\n",
       "      <th>display_text_range</th>\n",
       "      <th>created_time</th>\n",
       "    </tr>\n",
       "  </thead>\n",
       "  <tbody>\n",
       "    <tr>\n",
       "      <th>count</th>\n",
       "      <td>109.000000</td>\n",
       "      <td>109.000000</td>\n",
       "      <td>109.000000</td>\n",
       "      <td>109.0</td>\n",
       "      <td>109.000000</td>\n",
       "      <td>109.000000</td>\n",
       "    </tr>\n",
       "    <tr>\n",
       "      <th>mean</th>\n",
       "      <td>10.618872</td>\n",
       "      <td>1933.583571</td>\n",
       "      <td>7282.883426</td>\n",
       "      <td>1.0</td>\n",
       "      <td>115.654790</td>\n",
       "      <td>10.381273</td>\n",
       "    </tr>\n",
       "    <tr>\n",
       "      <th>std</th>\n",
       "      <td>1.121050</td>\n",
       "      <td>1385.244469</td>\n",
       "      <td>4580.931637</td>\n",
       "      <td>0.0</td>\n",
       "      <td>12.110790</td>\n",
       "      <td>4.410576</td>\n",
       "    </tr>\n",
       "    <tr>\n",
       "      <th>min</th>\n",
       "      <td>5.000000</td>\n",
       "      <td>30.000000</td>\n",
       "      <td>93.000000</td>\n",
       "      <td>1.0</td>\n",
       "      <td>82.666667</td>\n",
       "      <td>0.000000</td>\n",
       "    </tr>\n",
       "    <tr>\n",
       "      <th>25%</th>\n",
       "      <td>10.095238</td>\n",
       "      <td>1004.000000</td>\n",
       "      <td>4011.666667</td>\n",
       "      <td>1.0</td>\n",
       "      <td>107.600000</td>\n",
       "      <td>7.612903</td>\n",
       "    </tr>\n",
       "    <tr>\n",
       "      <th>50%</th>\n",
       "      <td>10.937500</td>\n",
       "      <td>1651.636364</td>\n",
       "      <td>6409.545455</td>\n",
       "      <td>1.0</td>\n",
       "      <td>115.222222</td>\n",
       "      <td>10.500000</td>\n",
       "    </tr>\n",
       "    <tr>\n",
       "      <th>75%</th>\n",
       "      <td>11.315789</td>\n",
       "      <td>2372.500000</td>\n",
       "      <td>9545.705882</td>\n",
       "      <td>1.0</td>\n",
       "      <td>124.190476</td>\n",
       "      <td>12.750000</td>\n",
       "    </tr>\n",
       "    <tr>\n",
       "      <th>max</th>\n",
       "      <td>13.000000</td>\n",
       "      <td>8955.250000</td>\n",
       "      <td>23801.666667</td>\n",
       "      <td>1.0</td>\n",
       "      <td>140.000000</td>\n",
       "      <td>23.000000</td>\n",
       "    </tr>\n",
       "  </tbody>\n",
       "</table>\n",
       "</div>"
      ],
      "text/plain": [
       "       rating_numerator  retweet_count  favorite_count  p1_dog  \\\n",
       "count        109.000000     109.000000      109.000000   109.0   \n",
       "mean          10.618872    1933.583571     7282.883426     1.0   \n",
       "std            1.121050    1385.244469     4580.931637     0.0   \n",
       "min            5.000000      30.000000       93.000000     1.0   \n",
       "25%           10.095238    1004.000000     4011.666667     1.0   \n",
       "50%           10.937500    1651.636364     6409.545455     1.0   \n",
       "75%           11.315789    2372.500000     9545.705882     1.0   \n",
       "max           13.000000    8955.250000    23801.666667     1.0   \n",
       "\n",
       "       display_text_range  created_time  \n",
       "count          109.000000    109.000000  \n",
       "mean           115.654790     10.381273  \n",
       "std             12.110790      4.410576  \n",
       "min             82.666667      0.000000  \n",
       "25%            107.600000      7.612903  \n",
       "50%            115.222222     10.500000  \n",
       "75%            124.190476     12.750000  \n",
       "max            140.000000     23.000000  "
      ]
     },
     "execution_count": 63,
     "metadata": {},
     "output_type": "execute_result"
    }
   ],
   "source": [
    "dog_type.describe()"
   ]
  },
  {
   "cell_type": "code",
   "execution_count": 64,
   "metadata": {},
   "outputs": [],
   "source": [
    "ret_count = [30,1004,1651,2372,8955]\n",
    "grps = [\"grp1\",\"grp2\",\"grp3\",\"grp4\"]"
   ]
  },
  {
   "cell_type": "code",
   "execution_count": 65,
   "metadata": {},
   "outputs": [],
   "source": [
    "dog_type['dog_category'] = pd.cut(dog_type['retweet_count'], ret_count, labels=grps)"
   ]
  },
  {
   "cell_type": "code",
   "execution_count": 108,
   "metadata": {},
   "outputs": [
    {
     "data": {
      "text/plain": [
       "Index(['Afghan_hound', 'Australian_terrier', 'Bedlington_terrier',\n",
       "       'Border_terrier', 'Cardigan', 'Chesapeake_Bay_retriever', 'Chihuahua',\n",
       "       'English_springer', 'French_bulldog', 'Gordon_setter', 'Great_Pyrenees',\n",
       "       'Irish_setter', 'Irish_water_spaniel', 'Leonberg', 'Norwegian_elkhound',\n",
       "       'Pembroke', 'Saluki', 'Samoyed', 'Walker_hound', 'basset', 'bloodhound',\n",
       "       'boxer', 'briard', 'cocker_spaniel', 'giant_schnauzer',\n",
       "       'golden_retriever', 'wire-haired_fox_terrier'],\n",
       "      dtype='object', name='type')"
      ]
     },
     "execution_count": 108,
     "metadata": {},
     "output_type": "execute_result"
    }
   ],
   "source": [
    "dog_type.query(\"dog_category == 'grp4'\").index"
   ]
  },
  {
   "cell_type": "code",
   "execution_count": 67,
   "metadata": {},
   "outputs": [],
   "source": [
    "groups = dog_type.groupby(\"dog_category\").mean()"
   ]
  },
  {
   "cell_type": "code",
   "execution_count": 68,
   "metadata": {},
   "outputs": [
    {
     "data": {
      "text/html": [
       "<div>\n",
       "<style scoped>\n",
       "    .dataframe tbody tr th:only-of-type {\n",
       "        vertical-align: middle;\n",
       "    }\n",
       "\n",
       "    .dataframe tbody tr th {\n",
       "        vertical-align: top;\n",
       "    }\n",
       "\n",
       "    .dataframe thead th {\n",
       "        text-align: right;\n",
       "    }\n",
       "</style>\n",
       "<table border=\"1\" class=\"dataframe\">\n",
       "  <thead>\n",
       "    <tr style=\"text-align: right;\">\n",
       "      <th></th>\n",
       "      <th>rating_numerator</th>\n",
       "      <th>retweet_count</th>\n",
       "      <th>favorite_count</th>\n",
       "      <th>p1_dog</th>\n",
       "      <th>display_text_range</th>\n",
       "      <th>created_time</th>\n",
       "    </tr>\n",
       "    <tr>\n",
       "      <th>dog_category</th>\n",
       "      <th></th>\n",
       "      <th></th>\n",
       "      <th></th>\n",
       "      <th></th>\n",
       "      <th></th>\n",
       "      <th></th>\n",
       "    </tr>\n",
       "  </thead>\n",
       "  <tbody>\n",
       "    <tr>\n",
       "      <th>grp1</th>\n",
       "      <td>9.615638</td>\n",
       "      <td>699.760597</td>\n",
       "      <td>2678.004630</td>\n",
       "      <td>1.0</td>\n",
       "      <td>123.222428</td>\n",
       "      <td>10.546914</td>\n",
       "    </tr>\n",
       "    <tr>\n",
       "      <th>grp2</th>\n",
       "      <td>10.641166</td>\n",
       "      <td>1367.292415</td>\n",
       "      <td>5487.074783</td>\n",
       "      <td>1.0</td>\n",
       "      <td>112.834435</td>\n",
       "      <td>9.240299</td>\n",
       "    </tr>\n",
       "    <tr>\n",
       "      <th>grp3</th>\n",
       "      <td>11.030674</td>\n",
       "      <td>1986.195328</td>\n",
       "      <td>8105.345545</td>\n",
       "      <td>1.0</td>\n",
       "      <td>113.003499</td>\n",
       "      <td>10.541551</td>\n",
       "    </tr>\n",
       "    <tr>\n",
       "      <th>grp4</th>\n",
       "      <td>11.308752</td>\n",
       "      <td>3470.553575</td>\n",
       "      <td>12515.116458</td>\n",
       "      <td>1.0</td>\n",
       "      <td>112.873213</td>\n",
       "      <td>11.487869</td>\n",
       "    </tr>\n",
       "  </tbody>\n",
       "</table>\n",
       "</div>"
      ],
      "text/plain": [
       "              rating_numerator  retweet_count  favorite_count  p1_dog  \\\n",
       "dog_category                                                            \n",
       "grp1                  9.615638     699.760597     2678.004630     1.0   \n",
       "grp2                 10.641166    1367.292415     5487.074783     1.0   \n",
       "grp3                 11.030674    1986.195328     8105.345545     1.0   \n",
       "grp4                 11.308752    3470.553575    12515.116458     1.0   \n",
       "\n",
       "              display_text_range  created_time  \n",
       "dog_category                                    \n",
       "grp1                  123.222428     10.546914  \n",
       "grp2                  112.834435      9.240299  \n",
       "grp3                  113.003499     10.541551  \n",
       "grp4                  112.873213     11.487869  "
      ]
     },
     "execution_count": 68,
     "metadata": {},
     "output_type": "execute_result"
    }
   ],
   "source": [
    "groups"
   ]
  },
  {
   "cell_type": "markdown",
   "metadata": {},
   "source": [
    "### Insight2 : Does the the text have an effect on the likes ?"
   ]
  },
  {
   "cell_type": "code",
   "execution_count": 69,
   "metadata": {},
   "outputs": [
    {
     "data": {
      "text/plain": [
       "-0.10760339753522119"
      ]
     },
     "execution_count": 69,
     "metadata": {},
     "output_type": "execute_result"
    }
   ],
   "source": [
    "df_v1.display_text_range.corr(df_v1.favorite_count)"
   ]
  },
  {
   "cell_type": "markdown",
   "metadata": {},
   "source": [
    "#### -> There is a negative correlation between text length and favorite count , so the long the text the less likes"
   ]
  },
  {
   "cell_type": "markdown",
   "metadata": {},
   "source": [
    "### Insight3 :  Wich top 3 loved dogs ?"
   ]
  },
  {
   "cell_type": "code",
   "execution_count": 70,
   "metadata": {},
   "outputs": [
    {
     "data": {
      "text/html": [
       "<div>\n",
       "<style scoped>\n",
       "    .dataframe tbody tr th:only-of-type {\n",
       "        vertical-align: middle;\n",
       "    }\n",
       "\n",
       "    .dataframe tbody tr th {\n",
       "        vertical-align: top;\n",
       "    }\n",
       "\n",
       "    .dataframe thead th {\n",
       "        text-align: right;\n",
       "    }\n",
       "</style>\n",
       "<table border=\"1\" class=\"dataframe\">\n",
       "  <thead>\n",
       "    <tr style=\"text-align: right;\">\n",
       "      <th></th>\n",
       "      <th>rating_numerator</th>\n",
       "      <th>retweet_count</th>\n",
       "      <th>favorite_count</th>\n",
       "      <th>p1_dog</th>\n",
       "      <th>display_text_range</th>\n",
       "      <th>created_time</th>\n",
       "    </tr>\n",
       "  </thead>\n",
       "  <tbody>\n",
       "    <tr>\n",
       "      <th>count</th>\n",
       "      <td>109.000000</td>\n",
       "      <td>109.000000</td>\n",
       "      <td>109.000000</td>\n",
       "      <td>109.0</td>\n",
       "      <td>109.000000</td>\n",
       "      <td>109.000000</td>\n",
       "    </tr>\n",
       "    <tr>\n",
       "      <th>mean</th>\n",
       "      <td>10.618872</td>\n",
       "      <td>1933.583571</td>\n",
       "      <td>7282.883426</td>\n",
       "      <td>1.0</td>\n",
       "      <td>115.654790</td>\n",
       "      <td>10.381273</td>\n",
       "    </tr>\n",
       "    <tr>\n",
       "      <th>std</th>\n",
       "      <td>1.121050</td>\n",
       "      <td>1385.244469</td>\n",
       "      <td>4580.931637</td>\n",
       "      <td>0.0</td>\n",
       "      <td>12.110790</td>\n",
       "      <td>4.410576</td>\n",
       "    </tr>\n",
       "    <tr>\n",
       "      <th>min</th>\n",
       "      <td>5.000000</td>\n",
       "      <td>30.000000</td>\n",
       "      <td>93.000000</td>\n",
       "      <td>1.0</td>\n",
       "      <td>82.666667</td>\n",
       "      <td>0.000000</td>\n",
       "    </tr>\n",
       "    <tr>\n",
       "      <th>25%</th>\n",
       "      <td>10.095238</td>\n",
       "      <td>1004.000000</td>\n",
       "      <td>4011.666667</td>\n",
       "      <td>1.0</td>\n",
       "      <td>107.600000</td>\n",
       "      <td>7.612903</td>\n",
       "    </tr>\n",
       "    <tr>\n",
       "      <th>50%</th>\n",
       "      <td>10.937500</td>\n",
       "      <td>1651.636364</td>\n",
       "      <td>6409.545455</td>\n",
       "      <td>1.0</td>\n",
       "      <td>115.222222</td>\n",
       "      <td>10.500000</td>\n",
       "    </tr>\n",
       "    <tr>\n",
       "      <th>75%</th>\n",
       "      <td>11.315789</td>\n",
       "      <td>2372.500000</td>\n",
       "      <td>9545.705882</td>\n",
       "      <td>1.0</td>\n",
       "      <td>124.190476</td>\n",
       "      <td>12.750000</td>\n",
       "    </tr>\n",
       "    <tr>\n",
       "      <th>max</th>\n",
       "      <td>13.000000</td>\n",
       "      <td>8955.250000</td>\n",
       "      <td>23801.666667</td>\n",
       "      <td>1.0</td>\n",
       "      <td>140.000000</td>\n",
       "      <td>23.000000</td>\n",
       "    </tr>\n",
       "  </tbody>\n",
       "</table>\n",
       "</div>"
      ],
      "text/plain": [
       "       rating_numerator  retweet_count  favorite_count  p1_dog  \\\n",
       "count        109.000000     109.000000      109.000000   109.0   \n",
       "mean          10.618872    1933.583571     7282.883426     1.0   \n",
       "std            1.121050    1385.244469     4580.931637     0.0   \n",
       "min            5.000000      30.000000       93.000000     1.0   \n",
       "25%           10.095238    1004.000000     4011.666667     1.0   \n",
       "50%           10.937500    1651.636364     6409.545455     1.0   \n",
       "75%           11.315789    2372.500000     9545.705882     1.0   \n",
       "max           13.000000    8955.250000    23801.666667     1.0   \n",
       "\n",
       "       display_text_range  created_time  \n",
       "count          109.000000    109.000000  \n",
       "mean           115.654790     10.381273  \n",
       "std             12.110790      4.410576  \n",
       "min             82.666667      0.000000  \n",
       "25%            107.600000      7.612903  \n",
       "50%            115.222222     10.500000  \n",
       "75%            124.190476     12.750000  \n",
       "max            140.000000     23.000000  "
      ]
     },
     "execution_count": 70,
     "metadata": {},
     "output_type": "execute_result"
    }
   ],
   "source": [
    "dog_type.describe()"
   ]
  },
  {
   "cell_type": "code",
   "execution_count": 71,
   "metadata": {},
   "outputs": [
    {
     "data": {
      "text/html": [
       "<div>\n",
       "<style scoped>\n",
       "    .dataframe tbody tr th:only-of-type {\n",
       "        vertical-align: middle;\n",
       "    }\n",
       "\n",
       "    .dataframe tbody tr th {\n",
       "        vertical-align: top;\n",
       "    }\n",
       "\n",
       "    .dataframe thead th {\n",
       "        text-align: right;\n",
       "    }\n",
       "</style>\n",
       "<table border=\"1\" class=\"dataframe\">\n",
       "  <thead>\n",
       "    <tr style=\"text-align: right;\">\n",
       "      <th></th>\n",
       "      <th>rating_numerator</th>\n",
       "      <th>retweet_count</th>\n",
       "      <th>favorite_count</th>\n",
       "      <th>p1_dog</th>\n",
       "      <th>display_text_range</th>\n",
       "      <th>created_time</th>\n",
       "      <th>dog_category</th>\n",
       "      <th>dog_classifier</th>\n",
       "    </tr>\n",
       "    <tr>\n",
       "      <th>type</th>\n",
       "      <th></th>\n",
       "      <th></th>\n",
       "      <th></th>\n",
       "      <th></th>\n",
       "      <th></th>\n",
       "      <th></th>\n",
       "      <th></th>\n",
       "      <th></th>\n",
       "    </tr>\n",
       "  </thead>\n",
       "  <tbody>\n",
       "    <tr>\n",
       "      <th>toy_poodle</th>\n",
       "      <td>11.032258</td>\n",
       "      <td>2164.290323</td>\n",
       "      <td>6023.935484</td>\n",
       "      <td>1.0</td>\n",
       "      <td>118.774194</td>\n",
       "      <td>7.612903</td>\n",
       "      <td>grp3</td>\n",
       "      <td>Average</td>\n",
       "    </tr>\n",
       "    <tr>\n",
       "      <th>Great_Dane</th>\n",
       "      <td>10.714286</td>\n",
       "      <td>1513.000000</td>\n",
       "      <td>5895.000000</td>\n",
       "      <td>1.0</td>\n",
       "      <td>120.000000</td>\n",
       "      <td>10.571429</td>\n",
       "      <td>grp2</td>\n",
       "      <td>Average</td>\n",
       "    </tr>\n",
       "    <tr>\n",
       "      <th>Bernese_mountain_dog</th>\n",
       "      <td>11.200000</td>\n",
       "      <td>1273.300000</td>\n",
       "      <td>5794.100000</td>\n",
       "      <td>1.0</td>\n",
       "      <td>113.900000</td>\n",
       "      <td>11.200000</td>\n",
       "      <td>grp2</td>\n",
       "      <td>Average</td>\n",
       "    </tr>\n",
       "    <tr>\n",
       "      <th>Yorkshire_terrier</th>\n",
       "      <td>10.500000</td>\n",
       "      <td>1165.000000</td>\n",
       "      <td>4349.500000</td>\n",
       "      <td>1.0</td>\n",
       "      <td>117.250000</td>\n",
       "      <td>9.375000</td>\n",
       "      <td>grp2</td>\n",
       "      <td>Average</td>\n",
       "    </tr>\n",
       "    <tr>\n",
       "      <th>Newfoundland</th>\n",
       "      <td>9.500000</td>\n",
       "      <td>963.750000</td>\n",
       "      <td>3420.000000</td>\n",
       "      <td>1.0</td>\n",
       "      <td>104.750000</td>\n",
       "      <td>11.500000</td>\n",
       "      <td>grp1</td>\n",
       "      <td>Bad</td>\n",
       "    </tr>\n",
       "  </tbody>\n",
       "</table>\n",
       "</div>"
      ],
      "text/plain": [
       "                      rating_numerator  retweet_count  favorite_count  p1_dog  \\\n",
       "type                                                                            \n",
       "toy_poodle                   11.032258    2164.290323     6023.935484     1.0   \n",
       "Great_Dane                   10.714286    1513.000000     5895.000000     1.0   \n",
       "Bernese_mountain_dog         11.200000    1273.300000     5794.100000     1.0   \n",
       "Yorkshire_terrier            10.500000    1165.000000     4349.500000     1.0   \n",
       "Newfoundland                  9.500000     963.750000     3420.000000     1.0   \n",
       "\n",
       "                      display_text_range  created_time dog_category  \\\n",
       "type                                                                  \n",
       "toy_poodle                    118.774194      7.612903         grp3   \n",
       "Great_Dane                    120.000000     10.571429         grp2   \n",
       "Bernese_mountain_dog          113.900000     11.200000         grp2   \n",
       "Yorkshire_terrier             117.250000      9.375000         grp2   \n",
       "Newfoundland                  104.750000     11.500000         grp1   \n",
       "\n",
       "                     dog_classifier  \n",
       "type                                 \n",
       "toy_poodle                  Average  \n",
       "Great_Dane                  Average  \n",
       "Bernese_mountain_dog        Average  \n",
       "Yorkshire_terrier           Average  \n",
       "Newfoundland                    Bad  "
      ]
     },
     "execution_count": 71,
     "metadata": {},
     "output_type": "execute_result"
    }
   ],
   "source": [
    "fav_count = [93,4011.666667,6409.545455,9545.705882,23801.666667]\n",
    "lvl = [\"Bad\",\"Average\",\"Good\",\"Excellent\"]\n",
    "dog_type['dog_classifier'] = pd.cut(dog_type['favorite_count'], fav_count, labels=lvl)\n",
    "dog_type.sample(5)"
   ]
  },
  {
   "cell_type": "code",
   "execution_count": 72,
   "metadata": {},
   "outputs": [],
   "source": [
    "top = dog_type.query(\"dog_classifier == 'Excellent'\").sort_values(by=['favorite_count'])"
   ]
  },
  {
   "cell_type": "code",
   "execution_count": 73,
   "metadata": {},
   "outputs": [
    {
     "data": {
      "text/html": [
       "<div>\n",
       "<style scoped>\n",
       "    .dataframe tbody tr th:only-of-type {\n",
       "        vertical-align: middle;\n",
       "    }\n",
       "\n",
       "    .dataframe tbody tr th {\n",
       "        vertical-align: top;\n",
       "    }\n",
       "\n",
       "    .dataframe thead th {\n",
       "        text-align: right;\n",
       "    }\n",
       "</style>\n",
       "<table border=\"1\" class=\"dataframe\">\n",
       "  <thead>\n",
       "    <tr style=\"text-align: right;\">\n",
       "      <th></th>\n",
       "      <th>rating_numerator</th>\n",
       "      <th>retweet_count</th>\n",
       "      <th>favorite_count</th>\n",
       "      <th>p1_dog</th>\n",
       "      <th>display_text_range</th>\n",
       "      <th>created_time</th>\n",
       "      <th>dog_category</th>\n",
       "      <th>dog_classifier</th>\n",
       "    </tr>\n",
       "    <tr>\n",
       "      <th>type</th>\n",
       "      <th></th>\n",
       "      <th></th>\n",
       "      <th></th>\n",
       "      <th></th>\n",
       "      <th></th>\n",
       "      <th></th>\n",
       "      <th></th>\n",
       "      <th></th>\n",
       "    </tr>\n",
       "  </thead>\n",
       "  <tbody>\n",
       "    <tr>\n",
       "      <th>Bedlington_terrier</th>\n",
       "      <td>11.000000</td>\n",
       "      <td>3119.000000</td>\n",
       "      <td>16011.333333</td>\n",
       "      <td>1.0</td>\n",
       "      <td>119.000000</td>\n",
       "      <td>18.333333</td>\n",
       "      <td>grp4</td>\n",
       "      <td>Excellent</td>\n",
       "    </tr>\n",
       "    <tr>\n",
       "      <th>French_bulldog</th>\n",
       "      <td>11.428571</td>\n",
       "      <td>4428.428571</td>\n",
       "      <td>18425.714286</td>\n",
       "      <td>1.0</td>\n",
       "      <td>124.190476</td>\n",
       "      <td>8.571429</td>\n",
       "      <td>grp4</td>\n",
       "      <td>Excellent</td>\n",
       "    </tr>\n",
       "    <tr>\n",
       "      <th>English_springer</th>\n",
       "      <td>11.000000</td>\n",
       "      <td>7953.600000</td>\n",
       "      <td>20330.800000</td>\n",
       "      <td>1.0</td>\n",
       "      <td>118.000000</td>\n",
       "      <td>15.200000</td>\n",
       "      <td>grp4</td>\n",
       "      <td>Excellent</td>\n",
       "    </tr>\n",
       "    <tr>\n",
       "      <th>standard_poodle</th>\n",
       "      <td>11.000000</td>\n",
       "      <td>8955.250000</td>\n",
       "      <td>22018.750000</td>\n",
       "      <td>1.0</td>\n",
       "      <td>108.000000</td>\n",
       "      <td>11.750000</td>\n",
       "      <td>NaN</td>\n",
       "      <td>Excellent</td>\n",
       "    </tr>\n",
       "    <tr>\n",
       "      <th>Saluki</th>\n",
       "      <td>12.333333</td>\n",
       "      <td>4687.333333</td>\n",
       "      <td>23801.666667</td>\n",
       "      <td>1.0</td>\n",
       "      <td>118.000000</td>\n",
       "      <td>6.666667</td>\n",
       "      <td>grp4</td>\n",
       "      <td>Excellent</td>\n",
       "    </tr>\n",
       "  </tbody>\n",
       "</table>\n",
       "</div>"
      ],
      "text/plain": [
       "                    rating_numerator  retweet_count  favorite_count  p1_dog  \\\n",
       "type                                                                          \n",
       "Bedlington_terrier         11.000000    3119.000000    16011.333333     1.0   \n",
       "French_bulldog             11.428571    4428.428571    18425.714286     1.0   \n",
       "English_springer           11.000000    7953.600000    20330.800000     1.0   \n",
       "standard_poodle            11.000000    8955.250000    22018.750000     1.0   \n",
       "Saluki                     12.333333    4687.333333    23801.666667     1.0   \n",
       "\n",
       "                    display_text_range  created_time dog_category  \\\n",
       "type                                                                \n",
       "Bedlington_terrier          119.000000     18.333333         grp4   \n",
       "French_bulldog              124.190476      8.571429         grp4   \n",
       "English_springer            118.000000     15.200000         grp4   \n",
       "standard_poodle             108.000000     11.750000          NaN   \n",
       "Saluki                      118.000000      6.666667         grp4   \n",
       "\n",
       "                   dog_classifier  \n",
       "type                               \n",
       "Bedlington_terrier      Excellent  \n",
       "French_bulldog          Excellent  \n",
       "English_springer        Excellent  \n",
       "standard_poodle         Excellent  \n",
       "Saluki                  Excellent  "
      ]
     },
     "execution_count": 73,
     "metadata": {},
     "output_type": "execute_result"
    }
   ],
   "source": [
    "top.tail(5)"
   ]
  },
  {
   "cell_type": "markdown",
   "metadata": {},
   "source": [
    "#### -> Saluki ,Standard Poodle and English Springer are the most loved dogs categories"
   ]
  },
  {
   "cell_type": "markdown",
   "metadata": {
    "collapsed": true
   },
   "source": [
    "## Visualization"
   ]
  },
  {
   "cell_type": "markdown",
   "metadata": {},
   "source": [
    "### Visual 1 :"
   ]
  },
  {
   "cell_type": "code",
   "execution_count": 100,
   "metadata": {},
   "outputs": [
    {
     "data": {
      "text/plain": [
       "<AxesSubplot:title={'center':'likes per textlength'}, xlabel='display_text_range', ylabel='favorite_count'>"
      ]
     },
     "execution_count": 100,
     "metadata": {},
     "output_type": "execute_result"
    },
    {
     "data": {
      "image/png": "[encoded data removed]",
      "text/plain": [
       "<Figure size 432x288 with 1 Axes>"
      ]
     },
     "metadata": {
      "needs_background": "light"
     },
     "output_type": "display_data"
    }
   ],
   "source": [
    "df_v1.plot(\"display_text_range\" ,\"favorite_count\" , kind = \"scatter\" , title = \"likes per textlength\" , alpha = 0.3)"
   ]
  },
  {
   "cell_type": "markdown",
   "metadata": {},
   "source": [
    "#### -> We can see that most of the tweets that has less likes are the ones that has long text"
   ]
  },
  {
   "cell_type": "markdown",
   "metadata": {},
   "source": [
    "### Visual 2 :"
   ]
  },
  {
   "cell_type": "code",
   "execution_count": 107,
   "metadata": {},
   "outputs": [
    {
     "data": {
      "image/png": "[encoded data removed]",
      "text/plain": [
       "<Figure size 432x288 with 1 Axes>"
      ]
     },
     "metadata": {
      "needs_background": "light"
     },
     "output_type": "display_data"
    }
   ],
   "source": [
    "plt.bar(groups.index ,groups[\"retweet_count\"])\n",
    "plt.title(\"most popular dog types\")\n",
    "plt.show()"
   ]
  },
  {
   "cell_type": "markdown",
   "metadata": {},
   "source": [
    "### Visual 3 :"
   ]
  },
  {
   "cell_type": "code",
   "execution_count": 88,
   "metadata": {},
   "outputs": [
    {
     "data": {
      "image/png": "[encoded data removed]",
      "text/plain": [
       "<Figure size 432x288 with 1 Axes>"
      ]
     },
     "metadata": {
      "needs_background": "light"
     },
     "output_type": "display_data"
    }
   ],
   "source": [
    "%matplotlib inline\n",
    "\n",
    "plt.bar(top.index ,top[\"favorite_count\"] )\n",
    "plt.title(\"most liked dog types\")\n",
    "plt.xticks(rotation = 90)\n",
    "plt.show()"
   ]
  },
  {
   "cell_type": "code",
   "execution_count": null,
   "metadata": {},
   "outputs": [],
   "source": []
  }
 ],
 "metadata": {
  "extensions": {
   "jupyter_dashboards": {
    "activeView": "report_default",
    "version": 1,
    "views": {
     "grid_default": {
      "cellMargin": 10,
      "defaultCellHeight": 20,
      "maxColumns": 12,
      "name": "grid",
      "type": "grid"
     },
     "report_default": {
      "name": "report",
      "type": "report"
     }
    }
   }
  },
  "kernelspec": {
   "display_name": "Python 3 (ipykernel)",
   "language": "python",
   "name": "python3"
  },
  "language_info": {
   "codemirror_mode": {
    "name": "ipython",
    "version": 3
   },
   "file_extension": ".py",
   "mimetype": "text/x-python",
   "name": "python",
   "nbconvert_exporter": "python",
   "pygments_lexer": "ipython3",
   "version": "3.9.7"
  }
 },
 "nbformat": 4,
 "nbformat_minor": 2
}
